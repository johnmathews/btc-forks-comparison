{
 "cells": [
  {
   "cell_type": "markdown",
   "metadata": {},
   "source": [
    "# CoinMetrics Case Study"
   ]
  },
  {
   "cell_type": "markdown",
   "metadata": {},
   "source": [
    "Objective - to evaluate skills and abilities in multiple ways:\n",
    "1. importing data\n",
    "2. wrangling data\n",
    "3. exploring data\n",
    "4. analysis\n",
    "5. modelling\n",
    "6. communicating results\n",
    "\n",
    "Provide:\n",
    "1. A written explanation of how to approach the problem\n",
    "2. Present the beginning phases of implementation using coin metrics data\n",
    "\n",
    "Of the four options made available in the case study, option 3 was chosen"
   ]
  },
  {
   "cell_type": "markdown",
   "metadata": {},
   "source": [
    "### Advocating for CoinMetric's data"
   ]
  },
  {
   "cell_type": "markdown",
   "metadata": {},
   "source": [
    "Produce quality research that is of value to potential clients (doesn’t have to be complete) with a particular focus on network data"
   ]
  },
  {
   "cell_type": "markdown",
   "metadata": {},
   "source": [
    "### Initial ideas\n",
    "\n",
    "My first rough ideas were: \n",
    "1. comparing different Bitcoin based chains, (BTC, BCH, LTC, BSV) to test the influence of whales and compare this to their respective claims to be a SoV  or alternative to cash.\n",
    "2. developing some of the research by Willy Woo. I find his research particularly interesting. Particularly, \n",
    "    1. days destroyed, \n",
    "    2. hodl waves, \n",
    "    3. thermo cap, \n",
    "    4. average cap. \n",
    " \n",
    "I think the following idea is also interesting and worth investigating, but not possible within the scope of this exercise:\n",
    " \n",
    "Tracking the number of twitter followers of various crypto-twitter thought leaders and celebrities to test the hypothesis that *\"an increase in follower numbers shows that new retail investors are entering crypto-markets, and an increase in price is expected soon\"*\n",
    " \n",
    "Thought leaders / crypto celebrities could be further grouped by what types of coins they speak about most  - SoV, smart contracts, DeFi, etc. \n",
    " \n",
    "Weibo could be analysed as well as Twitter to understand Chinese markets, Korean twitter could be analysed for the Korean retail market, etc. "
   ]
  },
  {
   "cell_type": "markdown",
   "metadata": {},
   "source": [
    "### 1. Testing the influence of whales on BTC forks and comparing to each chains claims e.g. as a store of value or alternative to cash"
   ]
  },
  {
   "cell_type": "code",
   "execution_count": null,
   "metadata": {},
   "outputs": [],
   "source": []
  }
 ],
 "metadata": {
  "kernelspec": {
   "display_name": "Python 3.7",
   "language": "python",
   "name": "python3.7"
  },
  "language_info": {
   "codemirror_mode": {
    "name": "ipython",
    "version": 3
   },
   "file_extension": ".py",
   "mimetype": "text/x-python",
   "name": "python",
   "nbconvert_exporter": "python",
   "pygments_lexer": "ipython3",
   "version": "3.7.3"
  },
  "latex_envs": {
   "LaTeX_envs_menu_present": true,
   "autocomplete": true,
   "bibliofile": "biblio.bib",
   "cite_by": "apalike",
   "current_citInitial": 1,
   "eqLabelWithNumbers": true,
   "eqNumInitial": 1,
   "hotkeys": {
    "equation": "Ctrl-E",
    "itemize": "Ctrl-I"
   },
   "labels_anchors": false,
   "latex_user_defs": false,
   "report_style_numbering": false,
   "user_envs_cfg": false
  }
 },
 "nbformat": 4,
 "nbformat_minor": 2
}
