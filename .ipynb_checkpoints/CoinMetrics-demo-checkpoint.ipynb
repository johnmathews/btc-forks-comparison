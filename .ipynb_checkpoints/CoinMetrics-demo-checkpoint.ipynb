{
 "cells": [
  {
   "cell_type": "markdown",
   "metadata": {},
   "source": [
    "# CoinMetrics Case Study"
   ]
  },
  {
   "cell_type": "markdown",
   "metadata": {},
   "source": [
    "Objective - to evaluate skills and abilities in multiple ways:\n",
    "1. importing data\n",
    "2. wrangling data\n",
    "3. exploring data\n",
    "4. analysis\n",
    "5. modelling\n",
    "6. communicating results\n",
    "\n",
    "Provide:\n",
    "1. A written explanation of how to approach the problem\n",
    "2. Present the beginning phases of implementation using coin metrics data\n",
    "\n",
    "Of the four options made available in the case study, option 3 was chosen"
   ]
  },
  {
   "cell_type": "markdown",
   "metadata": {},
   "source": [
    "### Advocating for CoinMetric's data"
   ]
  },
  {
   "cell_type": "markdown",
   "metadata": {},
   "source": [
    "Produce quality research that is of value to potential clients (doesn’t have to be complete) with a particular focus on network data"
   ]
  },
  {
   "cell_type": "markdown",
   "metadata": {},
   "source": [
    "### Initial ideas\n",
    "\n",
    "My first rough ideas were: \n",
    "1. comparing different Bitcoin based chains, (BTC, BCH, LTC, BSV) to test the influence of whales and compare this to their respective claims to be a SoV  or alternative to cash.\n",
    "2. developing some of the research by Willy Woo. I find his research particularly interesting. Particularly, \n",
    "    1. days destroyed, \n",
    "    2. hodl waves, \n",
    "    3. thermo cap, \n",
    "    4. average cap. \n",
    " \n",
    "I think the following ideas are also interesting and worth investigating, but not possible within the scope of this exercise:\n",
    " \n",
    "1. Tracking the number of twitter followers of various crypto-twitter thought leaders and celebrities to test the hypothesis that *\"an increase in follower numbers shows that new retail investors are entering crypto-markets, and an increase in price is expected soon\"*\n",
    " \n",
    " Thought leaders / crypto celebrities could be further grouped by what types of coins they speak about most  - SoV, smart contracts, DeFi, etc. \n",
    " \n",
    " Weibo could be analysed as well as Twitter to understand Chinese markets, Korean twitter could be analysed for the Korean retail market, etc. \n",
    "\n",
    "2. I have an existing side project which has the goal of using a recurrent neural net to predict BTC price movements. The app (model, stored data, data pipeline, visualization of results) will run autonomously on Google Cloud Platform. Candle data is consumed from CoinAPI.io and stored in BigQuery. \n",
    "\n",
    " Technical indicators will be calculated and used as additional factors to the model. Sentiment analysis from news outlets (Bloomberg, FT) would be added later. \n",
    "\n",
    " The model would be written using TensorFlow, and the BigQuery tables names would use BQ's date format capabilites. This would make the project faster and cheaper. "
   ]
  },
  {
   "cell_type": "markdown",
   "metadata": {},
   "source": [
    "### 1. Testing the influence of whales on BTC forks and comparing to each chains claims e.g. as a store of value or alternative to cash\n",
    "\n",
    "If a country has a much lower median income than mean income, it probably has high income inequality. \n",
    "\n",
    "Similarly, if a chain has a much smaller median transaction size than mean transaction size, it probably is not used by regular users and is controlled mostly be whales. \n",
    "\n",
    "This would contradict any claims the fork makes to being a form of digital cash. \n",
    "\n",
    "We assume that:\n",
    "1. If a blockchain is functioning as digital cash, then most of its transactions will be small. \n",
    "\n",
    "\n",
    "2. Conversely, if a blockchain has relatively little organic use by normal users then whales (users with large holdings) will make up a large proportion of on-chain activity and would have average transaction sizes much larger than normal users.\n",
    "\n",
    "\n",
    "3. Where the ratio of mean to median transaction value is relatively high, we have an environment where the mean value is much higher than the median value, which shows that daily total value transacted is dominated by a few large transactions, rahter than many small value transactions. This would show that whales dominate the blockchain (and likely market behaviour) rather than members of the general public, or retail investors. "
   ]
  },
  {
   "cell_type": "markdown",
   "metadata": {},
   "source": [
    "#### Fields\n",
    "1. _TxTfrValMeanUSD_ \n",
    "\n",
    " The sum USD value of native units transferred divided by the count of transfers (i.e., the mean \"size\" in USD of a transfer) that interval.\n",
    "\n",
    "\n",
    "2. *TxTfrValMedUSD*\n",
    "\n",
    " The median USD value transferred per transfer (i.e., the median \"size\" in USD of a transfer) that interval.\n",
    "\n",
    "\n",
    "3. *TxTfrValUSD*\n",
    "\n",
    " The sum USD value of all native units transferred (i.e., the aggregate size in USD of all transfers) that interval.\n",
    "\n",
    "\n",
    "#### Chains:\n",
    "BTC, BCH, BSV, LTC, DOGE"
   ]
  },
  {
   "cell_type": "code",
   "execution_count": 28,
   "metadata": {},
   "outputs": [
    {
     "data": {
      "text/html": [
       "        <script type=\"text/javascript\">\n",
       "        window.PlotlyConfig = {MathJaxConfig: 'local'};\n",
       "        if (window.MathJax) {MathJax.Hub.Config({SVG: {font: \"STIX-Web\"}});}\n",
       "        if (typeof require !== 'undefined') {\n",
       "        require.undef(\"plotly\");\n",
       "        requirejs.config({\n",
       "            paths: {\n",
       "                'plotly': ['https://cdn.plot.ly/plotly-latest.min']\n",
       "            }\n",
       "        });\n",
       "        require(['plotly'], function(Plotly) {\n",
       "            window._Plotly = Plotly;\n",
       "        });\n",
       "        }\n",
       "        </script>\n",
       "        "
      ]
     },
     "metadata": {},
     "output_type": "display_data"
    }
   ],
   "source": [
    "# import and setup\n",
    "import requests\n",
    "import json\n",
    "\n",
    "import cufflinks as cf\n",
    "import pandas as pd\n",
    "import plotly.graph_objs as go\n",
    "from plotly.offline import download_plotlyjs, init_notebook_mode, plot, iplot\n",
    "import chart_studio.plotly as py\n",
    "\n",
    "init_notebook_mode(connected=True)\n",
    "from IPython.core.interactiveshell import InteractiveShell\n",
    "InteractiveShell.ast_node_interactivity = \"all\""
   ]
  },
  {
   "cell_type": "code",
   "execution_count": 4,
   "metadata": {},
   "outputs": [],
   "source": [
    "def get_metricdata(asset_id, payload):\n",
    "    url = f'https://community-api.coinmetrics.io/v2/assets/{asset_id}/metricdata'\n",
    "    response = requests.get(\n",
    "        url=url,\n",
    "        params=payload\n",
    "    )\n",
    "    \n",
    "    if response.status_code == 200:\n",
    "        print(f'{asset_id} - success!')\n",
    "        return json.loads(response.content.decode('utf-8'))\n",
    "    else:\n",
    "        print(f'status_code: {response.status_code}')\n",
    "        return None"
   ]
  },
  {
   "cell_type": "code",
   "execution_count": 20,
   "metadata": {},
   "outputs": [
    {
     "name": "stdout",
     "output_type": "stream",
     "text": [
      "btc - success!\n",
      "ltc - success!\n",
      "bch - success!\n",
      "bsv - success!\n",
      "doge - success!\n"
     ]
    }
   ],
   "source": [
    "payload = {\n",
    "    'metrics':  'PriceUSD,'+\n",
    "                'TxTfrValMeanUSD,'+\n",
    "                'TxTfrValMedUSD,'+\n",
    "                'TxTfrValUSD',\n",
    "    'start': '2018-09-01',\n",
    "}\n",
    "\n",
    "asset_list = ['btc', 'ltc', 'bch', 'bsv', 'doge']\n",
    "data = {}\n",
    "for asset in asset_list:\n",
    "    data[asset] = get_metricdata(asset, payload)"
   ]
  },
  {
   "cell_type": "code",
   "execution_count": 21,
   "metadata": {},
   "outputs": [
    {
     "data": {
      "text/plain": [
       "dict_keys(['btc', 'ltc', 'bch', 'bsv', 'doge'])"
      ]
     },
     "execution_count": 21,
     "metadata": {},
     "output_type": "execute_result"
    }
   ],
   "source": [
    "data.keys()"
   ]
  },
  {
   "cell_type": "code",
   "execution_count": 25,
   "metadata": {},
   "outputs": [],
   "source": [
    "dataframes = {}\n",
    "cols = ['PriceUSD', 'TxTfrValMeanUSD', 'TxTfrValMedUSD', 'TxTfrValUSD']\n",
    "for asset in data.keys():\n",
    "    values = [ each['values'] for each in data[asset]['metricData']['series']]\n",
    "    index = [ each['time'] for each in data[asset]['metricData']['series']]\n",
    "    \n",
    "    df = pd.DataFrame.from_records(values, columns = cols)\n",
    "    df.index = pd.to_datetime(index, infer_datetime_format=True).date\n",
    "    \n",
    "    for col in df.columns:\n",
    "        df[col] = df[col].astype(float)\n",
    "    \n",
    "    df['TxCount'] = df.TxTfrValUSD / df.TxTfrValMeanUSD\n",
    "    df['MeanMedianRatio'] = df.TxTfrValMeanUSD / df.TxTfrValMedUSD\n",
    "    \n",
    "    dataframes[asset] = df"
   ]
  },
  {
   "cell_type": "code",
   "execution_count": 31,
   "metadata": {},
   "outputs": [
    {
     "data": {
      "text/html": [
       "<div>\n",
       "<style scoped>\n",
       "    .dataframe tbody tr th:only-of-type {\n",
       "        vertical-align: middle;\n",
       "    }\n",
       "\n",
       "    .dataframe tbody tr th {\n",
       "        vertical-align: top;\n",
       "    }\n",
       "\n",
       "    .dataframe thead th {\n",
       "        text-align: right;\n",
       "    }\n",
       "</style>\n",
       "<table border=\"1\" class=\"dataframe\">\n",
       "  <thead>\n",
       "    <tr style=\"text-align: right;\">\n",
       "      <th></th>\n",
       "      <th>PriceUSD</th>\n",
       "      <th>TxTfrValMeanUSD</th>\n",
       "      <th>TxTfrValMedUSD</th>\n",
       "      <th>TxTfrValUSD</th>\n",
       "      <th>TxCount</th>\n",
       "      <th>MeanMedianRatio</th>\n",
       "    </tr>\n",
       "  </thead>\n",
       "  <tbody>\n",
       "    <tr>\n",
       "      <td>2019-01-01</td>\n",
       "      <td>92.519183</td>\n",
       "      <td>10837.990111</td>\n",
       "      <td>2.219771</td>\n",
       "      <td>4.756794e+07</td>\n",
       "      <td>4389.000000</td>\n",
       "      <td>4.882481e+03</td>\n",
       "    </tr>\n",
       "    <tr>\n",
       "      <td>2019-03-17</td>\n",
       "      <td>67.834524</td>\n",
       "      <td>5991.813652</td>\n",
       "      <td>0.004839</td>\n",
       "      <td>4.007924e+07</td>\n",
       "      <td>6689.000000</td>\n",
       "      <td>1.238153e+06</td>\n",
       "    </tr>\n",
       "    <tr>\n",
       "      <td>2019-05-23</td>\n",
       "      <td>101.948639</td>\n",
       "      <td>3136.756425</td>\n",
       "      <td>0.250598</td>\n",
       "      <td>1.079985e+08</td>\n",
       "      <td>34430.000000</td>\n",
       "      <td>1.251709e+04</td>\n",
       "    </tr>\n",
       "    <tr>\n",
       "      <td>2019-08-23</td>\n",
       "      <td>135.367138</td>\n",
       "      <td>210.543987</td>\n",
       "      <td>0.947570</td>\n",
       "      <td>2.655949e+07</td>\n",
       "      <td>126146.999808</td>\n",
       "      <td>2.221936e+02</td>\n",
       "    </tr>\n",
       "    <tr>\n",
       "      <td>2019-04-15</td>\n",
       "      <td>58.787129</td>\n",
       "      <td>504.349049</td>\n",
       "      <td>0.000494</td>\n",
       "      <td>1.397360e+08</td>\n",
       "      <td>277062.000000</td>\n",
       "      <td>1.021338e+06</td>\n",
       "    </tr>\n",
       "  </tbody>\n",
       "</table>\n",
       "</div>"
      ],
      "text/plain": [
       "              PriceUSD  TxTfrValMeanUSD  TxTfrValMedUSD   TxTfrValUSD  \\\n",
       "2019-01-01   92.519183     10837.990111        2.219771  4.756794e+07   \n",
       "2019-03-17   67.834524      5991.813652        0.004839  4.007924e+07   \n",
       "2019-05-23  101.948639      3136.756425        0.250598  1.079985e+08   \n",
       "2019-08-23  135.367138       210.543987        0.947570  2.655949e+07   \n",
       "2019-04-15   58.787129       504.349049        0.000494  1.397360e+08   \n",
       "\n",
       "                  TxCount  MeanMedianRatio  \n",
       "2019-01-01    4389.000000     4.882481e+03  \n",
       "2019-03-17    6689.000000     1.238153e+06  \n",
       "2019-05-23   34430.000000     1.251709e+04  \n",
       "2019-08-23  126146.999808     2.221936e+02  \n",
       "2019-04-15  277062.000000     1.021338e+06  "
      ]
     },
     "execution_count": 31,
     "metadata": {},
     "output_type": "execute_result"
    },
    {
     "data": {
      "text/html": [
       "<div>\n",
       "<style scoped>\n",
       "    .dataframe tbody tr th:only-of-type {\n",
       "        vertical-align: middle;\n",
       "    }\n",
       "\n",
       "    .dataframe tbody tr th {\n",
       "        vertical-align: top;\n",
       "    }\n",
       "\n",
       "    .dataframe thead th {\n",
       "        text-align: right;\n",
       "    }\n",
       "</style>\n",
       "<table border=\"1\" class=\"dataframe\">\n",
       "  <thead>\n",
       "    <tr style=\"text-align: right;\">\n",
       "      <th></th>\n",
       "      <th>PriceUSD</th>\n",
       "      <th>TxTfrValMeanUSD</th>\n",
       "      <th>TxTfrValMedUSD</th>\n",
       "      <th>TxTfrValUSD</th>\n",
       "      <th>TxCount</th>\n",
       "      <th>MeanMedianRatio</th>\n",
       "    </tr>\n",
       "  </thead>\n",
       "  <tbody>\n",
       "    <tr>\n",
       "      <td>2018-11-04</td>\n",
       "      <td>6443.326841</td>\n",
       "      <td>5160.339325</td>\n",
       "      <td>61.057223</td>\n",
       "      <td>2.613186e+09</td>\n",
       "      <td>506398.0</td>\n",
       "      <td>84.516443</td>\n",
       "    </tr>\n",
       "    <tr>\n",
       "      <td>2018-10-22</td>\n",
       "      <td>6438.415255</td>\n",
       "      <td>6417.348249</td>\n",
       "      <td>64.384153</td>\n",
       "      <td>3.842054e+09</td>\n",
       "      <td>598698.0</td>\n",
       "      <td>99.672792</td>\n",
       "    </tr>\n",
       "    <tr>\n",
       "      <td>2019-03-11</td>\n",
       "      <td>3868.371172</td>\n",
       "      <td>4097.174848</td>\n",
       "      <td>63.441287</td>\n",
       "      <td>2.796826e+09</td>\n",
       "      <td>682623.0</td>\n",
       "      <td>64.582152</td>\n",
       "    </tr>\n",
       "    <tr>\n",
       "      <td>2019-03-27</td>\n",
       "      <td>4027.007918</td>\n",
       "      <td>3823.455273</td>\n",
       "      <td>56.543581</td>\n",
       "      <td>2.984046e+09</td>\n",
       "      <td>780458.0</td>\n",
       "      <td>67.619617</td>\n",
       "    </tr>\n",
       "    <tr>\n",
       "      <td>2019-04-22</td>\n",
       "      <td>5383.799975</td>\n",
       "      <td>8583.753811</td>\n",
       "      <td>64.941172</td>\n",
       "      <td>6.028945e+09</td>\n",
       "      <td>702367.0</td>\n",
       "      <td>132.177378</td>\n",
       "    </tr>\n",
       "  </tbody>\n",
       "</table>\n",
       "</div>"
      ],
      "text/plain": [
       "               PriceUSD  TxTfrValMeanUSD  TxTfrValMedUSD   TxTfrValUSD  \\\n",
       "2018-11-04  6443.326841      5160.339325       61.057223  2.613186e+09   \n",
       "2018-10-22  6438.415255      6417.348249       64.384153  3.842054e+09   \n",
       "2019-03-11  3868.371172      4097.174848       63.441287  2.796826e+09   \n",
       "2019-03-27  4027.007918      3823.455273       56.543581  2.984046e+09   \n",
       "2019-04-22  5383.799975      8583.753811       64.941172  6.028945e+09   \n",
       "\n",
       "             TxCount  MeanMedianRatio  \n",
       "2018-11-04  506398.0        84.516443  \n",
       "2018-10-22  598698.0        99.672792  \n",
       "2019-03-11  682623.0        64.582152  \n",
       "2019-03-27  780458.0        67.619617  \n",
       "2019-04-22  702367.0       132.177378  "
      ]
     },
     "execution_count": 31,
     "metadata": {},
     "output_type": "execute_result"
    },
    {
     "data": {
      "text/html": [
       "<div>\n",
       "<style scoped>\n",
       "    .dataframe tbody tr th:only-of-type {\n",
       "        vertical-align: middle;\n",
       "    }\n",
       "\n",
       "    .dataframe tbody tr th {\n",
       "        vertical-align: top;\n",
       "    }\n",
       "\n",
       "    .dataframe thead th {\n",
       "        text-align: right;\n",
       "    }\n",
       "</style>\n",
       "<table border=\"1\" class=\"dataframe\">\n",
       "  <thead>\n",
       "    <tr style=\"text-align: right;\">\n",
       "      <th></th>\n",
       "      <th>PriceUSD</th>\n",
       "      <th>TxTfrValMeanUSD</th>\n",
       "      <th>TxTfrValMedUSD</th>\n",
       "      <th>TxTfrValUSD</th>\n",
       "      <th>TxCount</th>\n",
       "      <th>MeanMedianRatio</th>\n",
       "    </tr>\n",
       "  </thead>\n",
       "  <tbody>\n",
       "    <tr>\n",
       "      <td>2019-08-28</td>\n",
       "      <td>0.002614</td>\n",
       "      <td>185.470817</td>\n",
       "      <td>1.045685</td>\n",
       "      <td>9.609058e+06</td>\n",
       "      <td>51809.0</td>\n",
       "      <td>177.367702</td>\n",
       "    </tr>\n",
       "    <tr>\n",
       "      <td>2019-08-18</td>\n",
       "      <td>0.002589</td>\n",
       "      <td>259.118427</td>\n",
       "      <td>0.228580</td>\n",
       "      <td>1.889492e+07</td>\n",
       "      <td>72920.0</td>\n",
       "      <td>1133.599019</td>\n",
       "    </tr>\n",
       "    <tr>\n",
       "      <td>2019-08-04</td>\n",
       "      <td>0.002931</td>\n",
       "      <td>355.880275</td>\n",
       "      <td>0.277324</td>\n",
       "      <td>2.974874e+07</td>\n",
       "      <td>83592.0</td>\n",
       "      <td>1283.265524</td>\n",
       "    </tr>\n",
       "    <tr>\n",
       "      <td>2019-07-25</td>\n",
       "      <td>0.002930</td>\n",
       "      <td>290.932257</td>\n",
       "      <td>0.387732</td>\n",
       "      <td>2.067423e+07</td>\n",
       "      <td>71062.0</td>\n",
       "      <td>750.342938</td>\n",
       "    </tr>\n",
       "    <tr>\n",
       "      <td>2019-03-22</td>\n",
       "      <td>0.002017</td>\n",
       "      <td>200.227768</td>\n",
       "      <td>0.443784</td>\n",
       "      <td>1.414069e+07</td>\n",
       "      <td>70623.0</td>\n",
       "      <td>451.182435</td>\n",
       "    </tr>\n",
       "  </tbody>\n",
       "</table>\n",
       "</div>"
      ],
      "text/plain": [
       "            PriceUSD  TxTfrValMeanUSD  TxTfrValMedUSD   TxTfrValUSD  TxCount  \\\n",
       "2019-08-28  0.002614       185.470817        1.045685  9.609058e+06  51809.0   \n",
       "2019-08-18  0.002589       259.118427        0.228580  1.889492e+07  72920.0   \n",
       "2019-08-04  0.002931       355.880275        0.277324  2.974874e+07  83592.0   \n",
       "2019-07-25  0.002930       290.932257        0.387732  2.067423e+07  71062.0   \n",
       "2019-03-22  0.002017       200.227768        0.443784  1.414069e+07  70623.0   \n",
       "\n",
       "            MeanMedianRatio  \n",
       "2019-08-28       177.367702  \n",
       "2019-08-18      1133.599019  \n",
       "2019-08-04      1283.265524  \n",
       "2019-07-25       750.342938  \n",
       "2019-03-22       451.182435  "
      ]
     },
     "execution_count": 31,
     "metadata": {},
     "output_type": "execute_result"
    }
   ],
   "source": [
    "dataframes['bsv'].sample(5)\n",
    "dataframes['btc'].sample(5)\n",
    "dataframes['doge'].sample(5)"
   ]
  },
  {
   "cell_type": "code",
   "execution_count": 35,
   "metadata": {},
   "outputs": [
    {
     "data": {
      "text/html": [
       "<iframe id=\"igraph\" scrolling=\"no\" style=\"border:none;\" seamless=\"seamless\" src=\"https://plot.ly/~mthwsjc/174.embed\" height=\"525px\" width=\"100%\"></iframe>"
      ],
      "text/plain": [
       "<chart_studio.tools.PlotlyDisplay object>"
      ]
     },
     "execution_count": 35,
     "metadata": {},
     "output_type": "execute_result"
    }
   ],
   "source": [
    "bsv_mean = go.Scatter(\n",
    "    x=dataframes['btc'].index,\n",
    "    y=dataframes['btc'].TxTfrValMeanUSD,\n",
    "    name='BTC mean',\n",
    "    #marker=dict(color='#ffcdd2')\n",
    ")\n",
    "bsv_median = go.Scatter(\n",
    "    x=dataframes['btc'].index,\n",
    "    y=dataframes['btc'].TxTfrValMedUSD,\n",
    "    name='BTC median'\n",
    "    #marker=dict(color='#ffcdd2')\n",
    ")\n",
    "\n",
    "data = [bsv_mean, bsv_median]\n",
    "layout = go.Layout(\n",
    "    title=\"BTC median and mean transaction values by day\",\n",
    "    xaxis=dict(title='Date'),\n",
    "    yaxis=dict(title='USD value'),\n",
    "    yaxis_type='log'\n",
    ")\n",
    "\n",
    "fig = go.Figure(data=data, layout=layout)\n",
    "\n",
    "py.iplot(fig) "
   ]
  },
  {
   "cell_type": "markdown",
   "metadata": {},
   "source": [
    "### Plot the ratio of daily mean to median transaction values for each asset "
   ]
  },
  {
   "cell_type": "code",
   "execution_count": 38,
   "metadata": {},
   "outputs": [
    {
     "data": {
      "text/html": [
       "<iframe id=\"igraph\" scrolling=\"no\" style=\"border:none;\" seamless=\"seamless\" src=\"https://plot.ly/~mthwsjc/178.embed\" height=\"525px\" width=\"100%\"></iframe>"
      ],
      "text/plain": [
       "<chart_studio.tools.PlotlyDisplay object>"
      ]
     },
     "execution_count": 38,
     "metadata": {},
     "output_type": "execute_result"
    }
   ],
   "source": [
    "def scatter_plot(asset, name):\n",
    "    return go.Scatter(\n",
    "        x=dataframes[asset].index,\n",
    "        y=dataframes[asset].MeanMedianRatio,\n",
    "        name=name\n",
    "    )\n",
    "        \n",
    "data = [scatter_plot(asset, asset) for asset in dataframes.keys()]\n",
    "layout = go.Layout(\n",
    "    title=\"ratio of daily mean to median transaction value\",\n",
    "    xaxis=dict(title='Date'),\n",
    "    yaxis=dict(title='Ratio'),\n",
    "    yaxis_type='log'\n",
    ")\n",
    "\n",
    "fig = go.Figure(data=data, layout=layout)\n",
    "\n",
    "py.iplot(fig) "
   ]
  },
  {
   "cell_type": "code",
   "execution_count": null,
   "metadata": {},
   "outputs": [],
   "source": []
  }
 ],
 "metadata": {
  "kernelspec": {
   "display_name": "Python 3",
   "language": "python",
   "name": "python3"
  },
  "language_info": {
   "codemirror_mode": {
    "name": "ipython",
    "version": 3
   },
   "file_extension": ".py",
   "mimetype": "text/x-python",
   "name": "python",
   "nbconvert_exporter": "python",
   "pygments_lexer": "ipython3",
   "version": "3.7.3"
  },
  "latex_envs": {
   "LaTeX_envs_menu_present": true,
   "autocomplete": true,
   "bibliofile": "biblio.bib",
   "cite_by": "apalike",
   "current_citInitial": 1,
   "eqLabelWithNumbers": true,
   "eqNumInitial": 1,
   "hotkeys": {
    "equation": "Ctrl-E",
    "itemize": "Ctrl-I"
   },
   "labels_anchors": false,
   "latex_user_defs": false,
   "report_style_numbering": false,
   "user_envs_cfg": false
  }
 },
 "nbformat": 4,
 "nbformat_minor": 2
}
