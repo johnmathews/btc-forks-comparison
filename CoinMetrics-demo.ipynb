{
 "cells": [
  {
   "cell_type": "markdown",
   "metadata": {},
   "source": [
    "# CoinMetrics Case Study"
   ]
  },
  {
   "cell_type": "markdown",
   "metadata": {},
   "source": [
    "Objective - to evaluate skills and abilities in multiple ways:\n",
    "1. importing data\n",
    "2. wrangling data\n",
    "3. exploring data\n",
    "4. analysis\n",
    "5. modelling\n",
    "6. communicating results\n",
    "\n",
    "Provide:\n",
    "1. A written explanation of how to approach the problem\n",
    "2. Present the beginning phases of implementation using coin metrics data\n",
    "\n",
    "Of the four options made available in the case study, option 3 was chosen"
   ]
  },
  {
   "cell_type": "markdown",
   "metadata": {},
   "source": [
    "### Advocating for CoinMetric's data"
   ]
  },
  {
   "cell_type": "markdown",
   "metadata": {},
   "source": [
    "Produce quality research that is of value to potential clients (doesn’t have to be complete) with a particular focus on network data"
   ]
  },
  {
   "cell_type": "markdown",
   "metadata": {},
   "source": [
    "### Initial ideas\n",
    "\n",
    "My first rough ideas were: \n",
    "1. comparing different Bitcoin based chains, (BTC, BCH, LTC, BSV) to test the influence of whales and compare this to their respective claims to be a SoV  or alternative to cash.\n",
    "2. developing some of the research by Willy Woo. I find his research particularly interesting. Particularly, \n",
    "    1. days destroyed, \n",
    "    2. hodl waves, \n",
    "    3. thermo cap, \n",
    "    4. average cap. \n",
    " \n",
    "I think the following ideas are also interesting and worth investigating, but not possible within the scope of this exercise:\n",
    " \n",
    "1. Tracking the number of twitter followers of various crypto-twitter thought leaders and celebrities to test the hypothesis that *\"an increase in follower numbers shows that new retail investors are entering crypto-markets, and an increase in price is expected soon\"*\n",
    " \n",
    " Thought leaders / crypto celebrities could be further grouped by what types of coins they speak about most  - SoV, smart contracts, DeFi, etc. \n",
    " \n",
    " Weibo could be analysed as well as Twitter to understand Chinese markets, Korean twitter could be analysed for the Korean retail market, etc. \n",
    "\n",
    "2. I have an existing side project which has the goal of using a recurrent neural net to predict BTC price movements. The app (model, stored data, data pipeline, visualization of results) will run autonomously on Google Cloud Platform. Candle data is consumed from CoinAPI.io and stored in BigQuery. \n",
    "\n",
    " Technical indicators will be calculated and used as additional factors to the model. Sentiment analysis from news outlets (Bloomberg, FT) would be added later. \n",
    "\n",
    " The model would be written using TensorFlow, and the BigQuery tables names would use BQ's date format capabilites. This would make the project faster and cheaper. "
   ]
  },
  {
   "cell_type": "markdown",
   "metadata": {},
   "source": [
    "### 1. Testing the influence of whales on BTC forks and comparing to each chains claims e.g. as a store of value or alternative to cash\n",
    "\n",
    "If a country has a much lower median income than mean income, it probably has high income inequality. \n",
    "\n",
    "Similarly, if a chain has a much smaller median transaction size than mean transaction size, it probably is not used by regular users and is controlled mostly be whales. \n",
    "\n",
    "This would contradict any claims the fork makes to being a form of digital cash. \n",
    "\n",
    "We assume that:\n",
    "1. If a blockchain is functioning as digital cash, then most of its transactions will be small. \n",
    "\n",
    "\n",
    "2. Conversely, if a blockchain has relatively little organic use by normal users then whales (users with large holdings) will make up a large proportion of on-chain activity and would have average transaction sizes much larger than normal users.\n",
    "\n",
    "\n",
    "3. Where the ratio of mean to median transaction value is relatively high, we have an environment where the mean value is much higher than the median value, which shows that daily total value transacted is dominated by a few large transactions, rahter than many small value transactions. This would show that whales dominate the blockchain (and likely market behaviour) rather than members of the general public, or retail investors. "
   ]
  },
  {
   "cell_type": "markdown",
   "metadata": {},
   "source": [
    "#### Fields\n",
    "1. _TxTfrValMeanUSD_ \n",
    "\n",
    " The sum USD value of native units transferred divided by the count of transfers (i.e., the mean \"size\" in USD of a transfer) that interval.\n",
    "\n",
    "\n",
    "2. *TxTfrValMedUSD*\n",
    "\n",
    " The median USD value transferred per transfer (i.e., the median \"size\" in USD of a transfer) that interval.\n",
    "\n",
    "\n",
    "3. *TxTfrValUSD*\n",
    "\n",
    " The sum USD value of all native units transferred (i.e., the aggregate size in USD of all transfers) that interval.\n",
    "\n",
    "\n",
    "#### Chains:\n",
    "BTC, BCH, BSV, LTC, DOGE"
   ]
  },
  {
   "cell_type": "code",
   "execution_count": 28,
   "metadata": {},
   "outputs": [
    {
     "data": {
      "text/html": [
       "        <script type=\"text/javascript\">\n",
       "        window.PlotlyConfig = {MathJaxConfig: 'local'};\n",
       "        if (window.MathJax) {MathJax.Hub.Config({SVG: {font: \"STIX-Web\"}});}\n",
       "        if (typeof require !== 'undefined') {\n",
       "        require.undef(\"plotly\");\n",
       "        requirejs.config({\n",
       "            paths: {\n",
       "                'plotly': ['https://cdn.plot.ly/plotly-latest.min']\n",
       "            }\n",
       "        });\n",
       "        require(['plotly'], function(Plotly) {\n",
       "            window._Plotly = Plotly;\n",
       "        });\n",
       "        }\n",
       "        </script>\n",
       "        "
      ]
     },
     "metadata": {},
     "output_type": "display_data"
    }
   ],
   "source": [
    "# import and setup\n",
    "import requests\n",
    "import json\n",
    "\n",
    "import cufflinks as cf\n",
    "import pandas as pd\n",
    "import plotly.graph_objs as go\n",
    "from plotly.offline import download_plotlyjs, init_notebook_mode, plot, iplot\n",
    "import chart_studio.plotly as py\n",
    "\n",
    "init_notebook_mode(connected=True)\n",
    "from IPython.core.interactiveshell import InteractiveShell\n",
    "InteractiveShell.ast_node_interactivity = \"all\""
   ]
  },
  {
   "cell_type": "code",
   "execution_count": 4,
   "metadata": {},
   "outputs": [],
   "source": [
    "def get_metricdata(asset_id, payload):\n",
    "    url = f'https://community-api.coinmetrics.io/v2/assets/{asset_id}/metricdata'\n",
    "    response = requests.get(\n",
    "        url=url,\n",
    "        params=payload\n",
    "    )\n",
    "    \n",
    "    if response.status_code == 200:\n",
    "        print(f'{asset_id} - success!')\n",
    "        return json.loads(response.content.decode('utf-8'))\n",
    "    else:\n",
    "        print(f'status_code: {response.status_code}')\n",
    "        return None"
   ]
  },
  {
   "cell_type": "code",
   "execution_count": 45,
   "metadata": {},
   "outputs": [
    {
     "name": "stdout",
     "output_type": "stream",
     "text": [
      "btc - success!\n",
      "ltc - success!\n",
      "bch - success!\n",
      "bsv - success!\n",
      "doge - success!\n"
     ]
    }
   ],
   "source": [
    "payload = {\n",
    "    'metrics':  'PriceUSD,'+\n",
    "                'TxTfrValMeanUSD,'+\n",
    "                'TxTfrValMedUSD,'+\n",
    "                'TxTfrValUSD',\n",
    "    'start': '2016-01-01',\n",
    "}\n",
    "\n",
    "asset_list = ['btc', 'ltc', 'bch', 'bsv', 'doge']\n",
    "data = {}\n",
    "for asset in asset_list:\n",
    "    data[asset] = get_metricdata(asset, payload)"
   ]
  },
  {
   "cell_type": "code",
   "execution_count": 46,
   "metadata": {},
   "outputs": [],
   "source": [
    "dataframes = {}\n",
    "cols = ['PriceUSD', 'TxTfrValMeanUSD', 'TxTfrValMedUSD', 'TxTfrValUSD']\n",
    "for asset in data.keys():\n",
    "    values = [ each['values'] for each in data[asset]['metricData']['series']]\n",
    "    index = [ each['time'] for each in data[asset]['metricData']['series']]\n",
    "    \n",
    "    df = pd.DataFrame.from_records(values, columns = cols)\n",
    "    df.index = pd.to_datetime(index, infer_datetime_format=True).date\n",
    "    \n",
    "    for col in df.columns:\n",
    "        df[col] = df[col].astype(float)\n",
    "    \n",
    "    df['TxCount'] = df.TxTfrValUSD / df.TxTfrValMeanUSD\n",
    "    df['MeanMedianRatio'] = df.TxTfrValMeanUSD / df.TxTfrValMedUSD\n",
    "    \n",
    "    dataframes[asset] = df"
   ]
  },
  {
   "cell_type": "code",
   "execution_count": 47,
   "metadata": {},
   "outputs": [
    {
     "data": {
      "text/html": [
       "<div>\n",
       "<style scoped>\n",
       "    .dataframe tbody tr th:only-of-type {\n",
       "        vertical-align: middle;\n",
       "    }\n",
       "\n",
       "    .dataframe tbody tr th {\n",
       "        vertical-align: top;\n",
       "    }\n",
       "\n",
       "    .dataframe thead th {\n",
       "        text-align: right;\n",
       "    }\n",
       "</style>\n",
       "<table border=\"1\" class=\"dataframe\">\n",
       "  <thead>\n",
       "    <tr style=\"text-align: right;\">\n",
       "      <th></th>\n",
       "      <th>PriceUSD</th>\n",
       "      <th>TxTfrValMeanUSD</th>\n",
       "      <th>TxTfrValMedUSD</th>\n",
       "      <th>TxTfrValUSD</th>\n",
       "      <th>TxCount</th>\n",
       "      <th>MeanMedianRatio</th>\n",
       "    </tr>\n",
       "  </thead>\n",
       "  <tbody>\n",
       "    <tr>\n",
       "      <td>2019-01-08</td>\n",
       "      <td>87.827085</td>\n",
       "      <td>15293.281969</td>\n",
       "      <td>1.481913</td>\n",
       "      <td>1.028626e+08</td>\n",
       "      <td>6726.000000</td>\n",
       "      <td>10319.962527</td>\n",
       "    </tr>\n",
       "    <tr>\n",
       "      <td>2019-05-04</td>\n",
       "      <td>52.940605</td>\n",
       "      <td>5391.805952</td>\n",
       "      <td>0.217886</td>\n",
       "      <td>1.080464e+08</td>\n",
       "      <td>20039.000000</td>\n",
       "      <td>24746.048883</td>\n",
       "    </tr>\n",
       "    <tr>\n",
       "      <td>2019-03-13</td>\n",
       "      <td>64.398603</td>\n",
       "      <td>4734.273513</td>\n",
       "      <td>0.051519</td>\n",
       "      <td>4.199774e+07</td>\n",
       "      <td>8871.000000</td>\n",
       "      <td>91893.948515</td>\n",
       "    </tr>\n",
       "    <tr>\n",
       "      <td>2019-07-25</td>\n",
       "      <td>161.297862</td>\n",
       "      <td>197.009298</td>\n",
       "      <td>0.747857</td>\n",
       "      <td>2.182587e+07</td>\n",
       "      <td>110785.999997</td>\n",
       "      <td>263.431873</td>\n",
       "    </tr>\n",
       "    <tr>\n",
       "      <td>2019-05-30</td>\n",
       "      <td>182.328941</td>\n",
       "      <td>17133.040429</td>\n",
       "      <td>80.586203</td>\n",
       "      <td>8.347217e+08</td>\n",
       "      <td>48720.000000</td>\n",
       "      <td>212.605134</td>\n",
       "    </tr>\n",
       "  </tbody>\n",
       "</table>\n",
       "</div>"
      ],
      "text/plain": [
       "              PriceUSD  TxTfrValMeanUSD  TxTfrValMedUSD   TxTfrValUSD  \\\n",
       "2019-01-08   87.827085     15293.281969        1.481913  1.028626e+08   \n",
       "2019-05-04   52.940605      5391.805952        0.217886  1.080464e+08   \n",
       "2019-03-13   64.398603      4734.273513        0.051519  4.199774e+07   \n",
       "2019-07-25  161.297862       197.009298        0.747857  2.182587e+07   \n",
       "2019-05-30  182.328941     17133.040429       80.586203  8.347217e+08   \n",
       "\n",
       "                  TxCount  MeanMedianRatio  \n",
       "2019-01-08    6726.000000     10319.962527  \n",
       "2019-05-04   20039.000000     24746.048883  \n",
       "2019-03-13    8871.000000     91893.948515  \n",
       "2019-07-25  110785.999997       263.431873  \n",
       "2019-05-30   48720.000000       212.605134  "
      ]
     },
     "execution_count": 47,
     "metadata": {},
     "output_type": "execute_result"
    },
    {
     "data": {
      "text/html": [
       "<div>\n",
       "<style scoped>\n",
       "    .dataframe tbody tr th:only-of-type {\n",
       "        vertical-align: middle;\n",
       "    }\n",
       "\n",
       "    .dataframe tbody tr th {\n",
       "        vertical-align: top;\n",
       "    }\n",
       "\n",
       "    .dataframe thead th {\n",
       "        text-align: right;\n",
       "    }\n",
       "</style>\n",
       "<table border=\"1\" class=\"dataframe\">\n",
       "  <thead>\n",
       "    <tr style=\"text-align: right;\">\n",
       "      <th></th>\n",
       "      <th>PriceUSD</th>\n",
       "      <th>TxTfrValMeanUSD</th>\n",
       "      <th>TxTfrValMedUSD</th>\n",
       "      <th>TxTfrValUSD</th>\n",
       "      <th>TxCount</th>\n",
       "      <th>MeanMedianRatio</th>\n",
       "    </tr>\n",
       "  </thead>\n",
       "  <tbody>\n",
       "    <tr>\n",
       "      <td>2016-12-22</td>\n",
       "      <td>858.501434</td>\n",
       "      <td>2219.428610</td>\n",
       "      <td>27.059055</td>\n",
       "      <td>1.471572e+09</td>\n",
       "      <td>663041.0</td>\n",
       "      <td>82.021659</td>\n",
       "    </tr>\n",
       "    <tr>\n",
       "      <td>2018-02-18</td>\n",
       "      <td>10439.446327</td>\n",
       "      <td>32676.089813</td>\n",
       "      <td>109.853981</td>\n",
       "      <td>1.401125e+10</td>\n",
       "      <td>428792.0</td>\n",
       "      <td>297.450212</td>\n",
       "    </tr>\n",
       "    <tr>\n",
       "      <td>2018-10-26</td>\n",
       "      <td>6428.006649</td>\n",
       "      <td>6602.929445</td>\n",
       "      <td>64.192228</td>\n",
       "      <td>3.881882e+09</td>\n",
       "      <td>587903.0</td>\n",
       "      <td>102.861821</td>\n",
       "    </tr>\n",
       "    <tr>\n",
       "      <td>2018-04-18</td>\n",
       "      <td>8165.786386</td>\n",
       "      <td>12411.456127</td>\n",
       "      <td>96.392454</td>\n",
       "      <td>6.503963e+09</td>\n",
       "      <td>524029.0</td>\n",
       "      <td>128.759624</td>\n",
       "    </tr>\n",
       "    <tr>\n",
       "      <td>2018-08-01</td>\n",
       "      <td>7599.357486</td>\n",
       "      <td>7669.213932</td>\n",
       "      <td>77.581727</td>\n",
       "      <td>4.432622e+09</td>\n",
       "      <td>577976.0</td>\n",
       "      <td>98.853355</td>\n",
       "    </tr>\n",
       "  </tbody>\n",
       "</table>\n",
       "</div>"
      ],
      "text/plain": [
       "                PriceUSD  TxTfrValMeanUSD  TxTfrValMedUSD   TxTfrValUSD  \\\n",
       "2016-12-22    858.501434      2219.428610       27.059055  1.471572e+09   \n",
       "2018-02-18  10439.446327     32676.089813      109.853981  1.401125e+10   \n",
       "2018-10-26   6428.006649      6602.929445       64.192228  3.881882e+09   \n",
       "2018-04-18   8165.786386     12411.456127       96.392454  6.503963e+09   \n",
       "2018-08-01   7599.357486      7669.213932       77.581727  4.432622e+09   \n",
       "\n",
       "             TxCount  MeanMedianRatio  \n",
       "2016-12-22  663041.0        82.021659  \n",
       "2018-02-18  428792.0       297.450212  \n",
       "2018-10-26  587903.0       102.861821  \n",
       "2018-04-18  524029.0       128.759624  \n",
       "2018-08-01  577976.0        98.853355  "
      ]
     },
     "execution_count": 47,
     "metadata": {},
     "output_type": "execute_result"
    },
    {
     "data": {
      "text/html": [
       "<div>\n",
       "<style scoped>\n",
       "    .dataframe tbody tr th:only-of-type {\n",
       "        vertical-align: middle;\n",
       "    }\n",
       "\n",
       "    .dataframe tbody tr th {\n",
       "        vertical-align: top;\n",
       "    }\n",
       "\n",
       "    .dataframe thead th {\n",
       "        text-align: right;\n",
       "    }\n",
       "</style>\n",
       "<table border=\"1\" class=\"dataframe\">\n",
       "  <thead>\n",
       "    <tr style=\"text-align: right;\">\n",
       "      <th></th>\n",
       "      <th>PriceUSD</th>\n",
       "      <th>TxTfrValMeanUSD</th>\n",
       "      <th>TxTfrValMedUSD</th>\n",
       "      <th>TxTfrValUSD</th>\n",
       "      <th>TxCount</th>\n",
       "      <th>MeanMedianRatio</th>\n",
       "    </tr>\n",
       "  </thead>\n",
       "  <tbody>\n",
       "    <tr>\n",
       "      <td>2018-08-20</td>\n",
       "      <td>0.002370</td>\n",
       "      <td>1150.942894</td>\n",
       "      <td>0.684651</td>\n",
       "      <td>8.492462e+07</td>\n",
       "      <td>73787.0</td>\n",
       "      <td>1681.064520</td>\n",
       "    </tr>\n",
       "    <tr>\n",
       "      <td>2017-06-12</td>\n",
       "      <td>0.003120</td>\n",
       "      <td>6763.308716</td>\n",
       "      <td>2.662201</td>\n",
       "      <td>2.179611e+08</td>\n",
       "      <td>32227.0</td>\n",
       "      <td>2540.495477</td>\n",
       "    </tr>\n",
       "    <tr>\n",
       "      <td>2018-02-01</td>\n",
       "      <td>0.004975</td>\n",
       "      <td>1633.490615</td>\n",
       "      <td>2.251489</td>\n",
       "      <td>1.198786e+08</td>\n",
       "      <td>73388.0</td>\n",
       "      <td>725.515611</td>\n",
       "    </tr>\n",
       "    <tr>\n",
       "      <td>2018-10-08</td>\n",
       "      <td>0.005577</td>\n",
       "      <td>7262.118596</td>\n",
       "      <td>1.544734</td>\n",
       "      <td>4.044201e+08</td>\n",
       "      <td>55689.0</td>\n",
       "      <td>4701.208926</td>\n",
       "    </tr>\n",
       "    <tr>\n",
       "      <td>2017-06-08</td>\n",
       "      <td>0.003404</td>\n",
       "      <td>5941.453002</td>\n",
       "      <td>5.102500</td>\n",
       "      <td>1.752016e+08</td>\n",
       "      <td>29488.0</td>\n",
       "      <td>1164.420047</td>\n",
       "    </tr>\n",
       "  </tbody>\n",
       "</table>\n",
       "</div>"
      ],
      "text/plain": [
       "            PriceUSD  TxTfrValMeanUSD  TxTfrValMedUSD   TxTfrValUSD  TxCount  \\\n",
       "2018-08-20  0.002370      1150.942894        0.684651  8.492462e+07  73787.0   \n",
       "2017-06-12  0.003120      6763.308716        2.662201  2.179611e+08  32227.0   \n",
       "2018-02-01  0.004975      1633.490615        2.251489  1.198786e+08  73388.0   \n",
       "2018-10-08  0.005577      7262.118596        1.544734  4.044201e+08  55689.0   \n",
       "2017-06-08  0.003404      5941.453002        5.102500  1.752016e+08  29488.0   \n",
       "\n",
       "            MeanMedianRatio  \n",
       "2018-08-20      1681.064520  \n",
       "2017-06-12      2540.495477  \n",
       "2018-02-01       725.515611  \n",
       "2018-10-08      4701.208926  \n",
       "2017-06-08      1164.420047  "
      ]
     },
     "execution_count": 47,
     "metadata": {},
     "output_type": "execute_result"
    }
   ],
   "source": [
    "dataframes['bsv'].sample(5)\n",
    "dataframes['btc'].sample(5)\n",
    "dataframes['doge'].sample(5)"
   ]
  },
  {
   "cell_type": "code",
   "execution_count": 48,
   "metadata": {},
   "outputs": [
    {
     "data": {
      "text/html": [
       "<iframe id=\"igraph\" scrolling=\"no\" style=\"border:none;\" seamless=\"seamless\" src=\"https://plot.ly/~mthwsjc/184.embed\" height=\"525px\" width=\"100%\"></iframe>"
      ],
      "text/plain": [
       "<chart_studio.tools.PlotlyDisplay object>"
      ]
     },
     "execution_count": 48,
     "metadata": {},
     "output_type": "execute_result"
    }
   ],
   "source": [
    "bsv_mean = go.Scatter(\n",
    "    x=dataframes['btc'].index,\n",
    "    y=dataframes['btc'].TxTfrValMeanUSD,\n",
    "    name='BTC mean',\n",
    "    #marker=dict(color='#ffcdd2')\n",
    ")\n",
    "bsv_median = go.Scatter(\n",
    "    x=dataframes['btc'].index,\n",
    "    y=dataframes['btc'].TxTfrValMedUSD,\n",
    "    name='BTC median'\n",
    "    #marker=dict(color='#ffcdd2')\n",
    ")\n",
    "\n",
    "data = [bsv_mean, bsv_median]\n",
    "layout = go.Layout(\n",
    "    title=\"BTC median and mean transaction values by day\",\n",
    "    xaxis=dict(title='Date'),\n",
    "    yaxis=dict(title='USD value'),\n",
    "    yaxis_type='log'\n",
    ")\n",
    "\n",
    "fig = go.Figure(data=data, layout=layout)\n",
    "\n",
    "py.iplot(fig) "
   ]
  },
  {
   "cell_type": "markdown",
   "metadata": {},
   "source": [
    "### Plot the ratio of daily mean to median transaction values for each asset "
   ]
  },
  {
   "cell_type": "code",
   "execution_count": 49,
   "metadata": {},
   "outputs": [
    {
     "data": {
      "text/html": [
       "<iframe id=\"igraph\" scrolling=\"no\" style=\"border:none;\" seamless=\"seamless\" src=\"https://plot.ly/~mthwsjc/186.embed\" height=\"525px\" width=\"100%\"></iframe>"
      ],
      "text/plain": [
       "<chart_studio.tools.PlotlyDisplay object>"
      ]
     },
     "execution_count": 49,
     "metadata": {},
     "output_type": "execute_result"
    }
   ],
   "source": [
    "def scatter_plot(asset, name):\n",
    "    return go.Scatter(\n",
    "        x=dataframes[asset].index,\n",
    "        y=dataframes[asset].MeanMedianRatio,\n",
    "        name=name\n",
    "    )\n",
    "        \n",
    "data = [scatter_plot(asset, asset) for asset in dataframes.keys()]\n",
    "layout = go.Layout(\n",
    "    title=\"ratio of daily mean to median transaction value\",\n",
    "    xaxis=dict(title='Date'),\n",
    "    yaxis=dict(title='Ratio'),\n",
    "    yaxis_type='log'\n",
    ")\n",
    "\n",
    "fig = go.Figure(data=data, layout=layout)\n",
    "\n",
    "py.iplot(fig) "
   ]
  },
  {
   "cell_type": "markdown",
   "metadata": {},
   "source": [
    "### Conclusions\n",
    "The chart above shows that BTC has the lowest ratio of mean to median daily transaction value. This suggests that it has more organic use and is less influenced by whales than the other blockchains on the chart. \n",
    "\n",
    "\n",
    "Using this ratio as a proxy to measure organic use, the chain with the second most organic use is Litecoin.\n",
    "\n",
    "\n",
    "Since the start of 2019, Dogecoin influence of whales has been decreasing\n",
    "\n",
    "Of the two contentious hard forks, Bitcoin cash shows two distinct phases with different characterists in each. From its inception in August 2017 to November 2018, the influence of whales and inorganic behaviour increased at a steady rate. Notably at the coins genesis, there appears to have been a large organic user base transacting daily, bringing the median transaction value to within 50 - 100x the mean daily transaction value. This was lower than Bitcoins, which had a much more consistent but higher ratio of 120 - 200.\n",
    "\n",
    "\n",
    "After November 10 2018, the ratio increases from an average of approximately 500 to approximately 10,000. This is a stark and abrupt change in the daily ratio, and suggests that either organic use drastically decreased or it (very suddenly) started being used for very large value transfers by relatively few users.\n",
    "\n",
    "\n",
    "Dogecoin, despite its status as a \"joke\" blockchain, appears to have more widespread organic use than either BCH or BSV, but less than BTC or LTC. Additionally, even though Elon Musk has professed to be a [fan](https://twitter.com/elonmusk/status/1113009339743100929) , it seems unlikely that he is using it to transmit a large fraction of his personal wealth."
   ]
  },
  {
   "cell_type": "code",
   "execution_count": null,
   "metadata": {},
   "outputs": [],
   "source": []
  },
  {
   "cell_type": "code",
   "execution_count": null,
   "metadata": {},
   "outputs": [],
   "source": []
  }
 ],
 "metadata": {
  "kernelspec": {
   "display_name": "Python 3",
   "language": "python",
   "name": "python3"
  },
  "language_info": {
   "codemirror_mode": {
    "name": "ipython",
    "version": 3
   },
   "file_extension": ".py",
   "mimetype": "text/x-python",
   "name": "python",
   "nbconvert_exporter": "python",
   "pygments_lexer": "ipython3",
   "version": "3.7.3"
  },
  "latex_envs": {
   "LaTeX_envs_menu_present": true,
   "autocomplete": true,
   "bibliofile": "biblio.bib",
   "cite_by": "apalike",
   "current_citInitial": 1,
   "eqLabelWithNumbers": true,
   "eqNumInitial": 1,
   "hotkeys": {
    "equation": "Ctrl-E",
    "itemize": "Ctrl-I"
   },
   "labels_anchors": false,
   "latex_user_defs": false,
   "report_style_numbering": false,
   "user_envs_cfg": false
  }
 },
 "nbformat": 4,
 "nbformat_minor": 2
}
