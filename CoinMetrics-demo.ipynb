{
 "cells": [
  {
   "cell_type": "markdown",
   "metadata": {},
   "source": [
    "# CoinMetrics Case Study"
   ]
  },
  {
   "cell_type": "markdown",
   "metadata": {},
   "source": [
    "Objective - to evaluate skills and abilities in multiple ways:\n",
    "1. importing data\n",
    "2. wrangling data\n",
    "3. exploring data\n",
    "4. analysis\n",
    "5. modelling\n",
    "6. communicating results\n",
    "\n",
    "Provide:\n",
    "1. A written explanation of how to approach the problem\n",
    "2. Present the beginning phases of implementation using coin metrics data\n",
    "\n",
    "Of the four options made available in the case study, option 3 was chosen"
   ]
  },
  {
   "cell_type": "markdown",
   "metadata": {},
   "source": [
    "### Advocating for CoinMetric's data"
   ]
  },
  {
   "cell_type": "markdown",
   "metadata": {},
   "source": [
    "Produce quality research that is of value to potential clients (doesn’t have to be complete) with a particular focus on network data"
   ]
  },
  {
   "cell_type": "markdown",
   "metadata": {},
   "source": [
    "### Initial ideas\n",
    "\n",
    "My first rough ideas were: \n",
    "1. comparing different Bitcoin based chains, (BTC, BCH, LTC, BSV) to test the influence of whales and compare this to their respective (evolving) claims to be a store of value (SoV) and/or alternative to cash.\n",
    "2. developing and expanding some of the research by [Willy Woo](http://charts.woobull.com/bitcoin-hodl-waves/). I find his research to be outstanding. In particular: \n",
    "    1. days destroyed\n",
    "    2. hodl waves\n",
    "    3. thermo cap \n",
    "    4. average cap \n",
    " \n",
    "I think the following ideas are also interesting and worth investigating, but not possible within the scope of this exercise:\n",
    " \n",
    "3. Tracking the number of twitter followers of various crypto-twitter thought leaders and celebrities to test the hypothesis that *\"an increase in follower numbers shows that new retail investors are entering crypto-markets, and an increase in price is expected soon\"*\n",
    " \n",
    " Thought leaders / crypto celebrities could be further grouped by what types of coins they speak about most  - smart contracts, DeFi, privacy coins, etc. \n",
    " \n",
    " Weibo could be analysed as well as Twitter to understand Chinese markets, Korean twitter could be analysed for the Korean retail market, etc. \n",
    "\n",
    "4. I have an existing side project which has the goal of using a recurrent neural net to predict BTC price movements. The app (model, stored data, data pipeline, visualization of results) will run autonomously on Google Cloud Platform. Candle data is consumed from CoinAPI.io and stored in BigQuery. \n",
    "\n",
    " Technical indicators will be calculated and used as additional factors to the model. Sentiment analysis from news outlets (Bloomberg, FT) would be added later. \n",
    "\n",
    " The model would be written using TensorFlow, and the BigQuery tables names would use BQ's date format capabilites. This would make the project faster and cheaper. "
   ]
  },
  {
   "cell_type": "markdown",
   "metadata": {},
   "source": [
    "Idea 1 seemed like a sensible option. \n",
    "\n",
    "####  Testing the influence of whales and \"normal users\" on BTC and 4 BTC forks, and discussing results in the context of each chain's claimed technical advantages and use cases as e.g. a store of value or alternative to cash\n",
    "\n",
    "This will be achieved by comparing daily mean USD transaction value to daily median USD transaction value. This is done by calculating the mean-median  ratio of transaction value (MMR).\n",
    "\n",
    "__Hypothesis__: If a chain has a much smaller median transaction size than mean transaction size, then on chain activity is dominated not by regular users making normal daily transactions, but by whales moving large amounts of currency to artificially inflate usage metrics. \n",
    "\n",
    "This could contradict claims by that blockchain's community of being a popular form of digital cash. \n",
    "\n",
    "We assume that:\n",
    "1. If a blockchain is functioning as digital cash, then most of its transactions would be small. \n",
    "\n",
    "\n",
    "2. Conversely, if a blockchain has relatively little organic use by normal users then whales (users with large holdings) will make up a large proportion of on-chain activity and would have average transaction sizes much larger than a day-to-day transaction.\n",
    "\n",
    "\n",
    "3. Where the ratio of mean to median transaction value is relatively high, we have an environment where the mean value is much higher than the median value, which shows that daily total value transacted is dominated by a few relatively large transactions, rather than many small value transactions. This would show that whales dominate the blockchain (and likely market behavior) rather than members of the general public or retail investors. "
   ]
  },
  {
   "cell_type": "markdown",
   "metadata": {},
   "source": [
    "#### Chains:\n",
    "The chains that will be analysed here are:\n",
    "- BTC\n",
    "- BCH \n",
    "- BSV \n",
    "- LTC \n",
    "- DOGE\n",
    "\n",
    "\n",
    "#### Fields\n",
    "using the coinmetrics api, the following metrics will be used:\n",
    "1. _TxTfrValMeanUSD_ \n",
    "\n",
    " The sum USD value of native units transferred divided by the count of transfers (i.e., the mean \"size\" in USD of a transfer) that interval.\n",
    "\n",
    "\n",
    "2. *TxTfrValMedUSD*\n",
    "\n",
    " The median USD value transferred per transfer (i.e., the median \"size\" in USD of a transfer) that interval.\n",
    "\n",
    "\n",
    "3. *TxTfrValUSD*\n",
    "\n",
    " The sum USD value of all native units transferred (i.e., the aggregate size in USD of all transfers) that interval.\n",
    "\n",
    "\n"
   ]
  },
  {
   "cell_type": "code",
   "execution_count": 28,
   "metadata": {},
   "outputs": [
    {
     "data": {
      "text/html": [
       "        <script type=\"text/javascript\">\n",
       "        window.PlotlyConfig = {MathJaxConfig: 'local'};\n",
       "        if (window.MathJax) {MathJax.Hub.Config({SVG: {font: \"STIX-Web\"}});}\n",
       "        if (typeof require !== 'undefined') {\n",
       "        require.undef(\"plotly\");\n",
       "        requirejs.config({\n",
       "            paths: {\n",
       "                'plotly': ['https://cdn.plot.ly/plotly-latest.min']\n",
       "            }\n",
       "        });\n",
       "        require(['plotly'], function(Plotly) {\n",
       "            window._Plotly = Plotly;\n",
       "        });\n",
       "        }\n",
       "        </script>\n",
       "        "
      ]
     },
     "metadata": {},
     "output_type": "display_data"
    }
   ],
   "source": [
    "# import and setup\n",
    "import requests\n",
    "import json\n",
    "\n",
    "import cufflinks as cf\n",
    "import pandas as pd\n",
    "import plotly.graph_objs as go\n",
    "from plotly.offline import download_plotlyjs, init_notebook_mode, plot, iplot\n",
    "import chart_studio.plotly as py\n",
    "\n",
    "init_notebook_mode(connected=True)\n",
    "from IPython.core.interactiveshell import InteractiveShell\n",
    "InteractiveShell.ast_node_interactivity = \"all\""
   ]
  },
  {
   "cell_type": "code",
   "execution_count": 4,
   "metadata": {},
   "outputs": [],
   "source": [
    "def get_metricdata(asset_id, payload):\n",
    "    url = f'https://community-api.coinmetrics.io/v2/assets/{asset_id}/metricdata'\n",
    "    response = requests.get(\n",
    "        url=url,\n",
    "        params=payload\n",
    "    )\n",
    "    \n",
    "    if response.status_code == 200:\n",
    "        print(f'{asset_id} - success!')\n",
    "        return json.loads(response.content.decode('utf-8'))\n",
    "    else:\n",
    "        print(f'status_code: {response.status_code}')\n",
    "        return None"
   ]
  },
  {
   "cell_type": "code",
   "execution_count": 55,
   "metadata": {},
   "outputs": [
    {
     "name": "stdout",
     "output_type": "stream",
     "text": [
      "btc - success!\n",
      "ltc - success!\n",
      "bch - success!\n",
      "bsv - success!\n",
      "doge - success!\n"
     ]
    }
   ],
   "source": [
    "payload = {\n",
    "    'metrics':  'PriceUSD,'+\n",
    "                'TxTfrValMeanUSD,'+\n",
    "                'TxTfrValMedUSD,'+\n",
    "                'TxTfrValUSD',\n",
    "    'start': '2016-01-01',\n",
    "}\n",
    "\n",
    "asset_list = ['btc', 'ltc', 'bch', 'bsv', 'doge']\n",
    "data = {}\n",
    "for asset in asset_list:\n",
    "    data[asset] = get_metricdata(asset, payload)"
   ]
  },
  {
   "cell_type": "code",
   "execution_count": 56,
   "metadata": {},
   "outputs": [],
   "source": [
    "dataframes = {}\n",
    "cols = ['PriceUSD', 'TxTfrValMeanUSD', 'TxTfrValMedUSD', 'TxTfrValUSD']\n",
    "for asset in data.keys():\n",
    "    values = [ each['values'] for each in data[asset]['metricData']['series']]\n",
    "    index = [ each['time'] for each in data[asset]['metricData']['series']]\n",
    "    \n",
    "    df = pd.DataFrame.from_records(values, columns = cols)\n",
    "    df.index = pd.to_datetime(index, infer_datetime_format=True).date\n",
    "    \n",
    "    for col in df.columns:\n",
    "        df[col] = df[col].astype(float)\n",
    "    \n",
    "    df['TxCount'] = df.TxTfrValUSD / df.TxTfrValMeanUSD\n",
    "    df['MeanMedianRatio'] = df.TxTfrValMeanUSD / df.TxTfrValMedUSD\n",
    "    \n",
    "    dataframes[asset] = df"
   ]
  },
  {
   "cell_type": "code",
   "execution_count": 57,
   "metadata": {},
   "outputs": [
    {
     "data": {
      "text/html": [
       "<div>\n",
       "<style scoped>\n",
       "    .dataframe tbody tr th:only-of-type {\n",
       "        vertical-align: middle;\n",
       "    }\n",
       "\n",
       "    .dataframe tbody tr th {\n",
       "        vertical-align: top;\n",
       "    }\n",
       "\n",
       "    .dataframe thead th {\n",
       "        text-align: right;\n",
       "    }\n",
       "</style>\n",
       "<table border=\"1\" class=\"dataframe\">\n",
       "  <thead>\n",
       "    <tr style=\"text-align: right;\">\n",
       "      <th></th>\n",
       "      <th>PriceUSD</th>\n",
       "      <th>TxTfrValMeanUSD</th>\n",
       "      <th>TxTfrValMedUSD</th>\n",
       "      <th>TxTfrValUSD</th>\n",
       "      <th>TxCount</th>\n",
       "      <th>MeanMedianRatio</th>\n",
       "    </tr>\n",
       "  </thead>\n",
       "  <tbody>\n",
       "    <tr>\n",
       "      <td>2019-02-15</td>\n",
       "      <td>61.706587</td>\n",
       "      <td>1516.754318</td>\n",
       "      <td>61.706587</td>\n",
       "      <td>8.353676e+07</td>\n",
       "      <td>55076.0</td>\n",
       "      <td>24.580104</td>\n",
       "    </tr>\n",
       "    <tr>\n",
       "      <td>2019-02-19</td>\n",
       "      <td>66.775855</td>\n",
       "      <td>9736.902716</td>\n",
       "      <td>421.828343</td>\n",
       "      <td>1.674845e+08</td>\n",
       "      <td>17201.0</td>\n",
       "      <td>23.082618</td>\n",
       "    </tr>\n",
       "    <tr>\n",
       "      <td>2019-03-08</td>\n",
       "      <td>64.837298</td>\n",
       "      <td>7438.208012</td>\n",
       "      <td>0.069422</td>\n",
       "      <td>8.554683e+07</td>\n",
       "      <td>11501.0</td>\n",
       "      <td>107144.911292</td>\n",
       "    </tr>\n",
       "    <tr>\n",
       "      <td>2019-03-28</td>\n",
       "      <td>63.633667</td>\n",
       "      <td>4749.332321</td>\n",
       "      <td>2.107293</td>\n",
       "      <td>6.684210e+07</td>\n",
       "      <td>14074.0</td>\n",
       "      <td>2253.759666</td>\n",
       "    </tr>\n",
       "    <tr>\n",
       "      <td>2019-03-06</td>\n",
       "      <td>66.241482</td>\n",
       "      <td>8302.813849</td>\n",
       "      <td>2.659609</td>\n",
       "      <td>4.090796e+07</td>\n",
       "      <td>4927.0</td>\n",
       "      <td>3121.817000</td>\n",
       "    </tr>\n",
       "  </tbody>\n",
       "</table>\n",
       "</div>"
      ],
      "text/plain": [
       "             PriceUSD  TxTfrValMeanUSD  TxTfrValMedUSD   TxTfrValUSD  TxCount  \\\n",
       "2019-02-15  61.706587      1516.754318       61.706587  8.353676e+07  55076.0   \n",
       "2019-02-19  66.775855      9736.902716      421.828343  1.674845e+08  17201.0   \n",
       "2019-03-08  64.837298      7438.208012        0.069422  8.554683e+07  11501.0   \n",
       "2019-03-28  63.633667      4749.332321        2.107293  6.684210e+07  14074.0   \n",
       "2019-03-06  66.241482      8302.813849        2.659609  4.090796e+07   4927.0   \n",
       "\n",
       "            MeanMedianRatio  \n",
       "2019-02-15        24.580104  \n",
       "2019-02-19        23.082618  \n",
       "2019-03-08    107144.911292  \n",
       "2019-03-28      2253.759666  \n",
       "2019-03-06      3121.817000  "
      ]
     },
     "execution_count": 57,
     "metadata": {},
     "output_type": "execute_result"
    },
    {
     "data": {
      "text/html": [
       "<div>\n",
       "<style scoped>\n",
       "    .dataframe tbody tr th:only-of-type {\n",
       "        vertical-align: middle;\n",
       "    }\n",
       "\n",
       "    .dataframe tbody tr th {\n",
       "        vertical-align: top;\n",
       "    }\n",
       "\n",
       "    .dataframe thead th {\n",
       "        text-align: right;\n",
       "    }\n",
       "</style>\n",
       "<table border=\"1\" class=\"dataframe\">\n",
       "  <thead>\n",
       "    <tr style=\"text-align: right;\">\n",
       "      <th></th>\n",
       "      <th>PriceUSD</th>\n",
       "      <th>TxTfrValMeanUSD</th>\n",
       "      <th>TxTfrValMedUSD</th>\n",
       "      <th>TxTfrValUSD</th>\n",
       "      <th>TxCount</th>\n",
       "      <th>MeanMedianRatio</th>\n",
       "    </tr>\n",
       "  </thead>\n",
       "  <tbody>\n",
       "    <tr>\n",
       "      <td>2018-01-12</td>\n",
       "      <td>13770.848818</td>\n",
       "      <td>19686.191156</td>\n",
       "      <td>344.271220</td>\n",
       "      <td>1.684626e+10</td>\n",
       "      <td>855740.0</td>\n",
       "      <td>57.182216</td>\n",
       "    </tr>\n",
       "    <tr>\n",
       "      <td>2016-04-15</td>\n",
       "      <td>430.724419</td>\n",
       "      <td>1885.295034</td>\n",
       "      <td>12.001705</td>\n",
       "      <td>9.001021e+08</td>\n",
       "      <td>477433.0</td>\n",
       "      <td>157.085598</td>\n",
       "    </tr>\n",
       "    <tr>\n",
       "      <td>2016-06-20</td>\n",
       "      <td>722.497452</td>\n",
       "      <td>2395.496580</td>\n",
       "      <td>12.204991</td>\n",
       "      <td>1.476701e+09</td>\n",
       "      <td>616449.0</td>\n",
       "      <td>196.271892</td>\n",
       "    </tr>\n",
       "    <tr>\n",
       "      <td>2017-10-08</td>\n",
       "      <td>4607.925936</td>\n",
       "      <td>9428.789627</td>\n",
       "      <td>53.004327</td>\n",
       "      <td>5.515022e+09</td>\n",
       "      <td>584913.0</td>\n",
       "      <td>177.887168</td>\n",
       "    </tr>\n",
       "    <tr>\n",
       "      <td>2017-01-03</td>\n",
       "      <td>1032.609053</td>\n",
       "      <td>2199.476710</td>\n",
       "      <td>15.342221</td>\n",
       "      <td>1.653857e+09</td>\n",
       "      <td>751932.0</td>\n",
       "      <td>143.361034</td>\n",
       "    </tr>\n",
       "  </tbody>\n",
       "</table>\n",
       "</div>"
      ],
      "text/plain": [
       "                PriceUSD  TxTfrValMeanUSD  TxTfrValMedUSD   TxTfrValUSD  \\\n",
       "2018-01-12  13770.848818     19686.191156      344.271220  1.684626e+10   \n",
       "2016-04-15    430.724419      1885.295034       12.001705  9.001021e+08   \n",
       "2016-06-20    722.497452      2395.496580       12.204991  1.476701e+09   \n",
       "2017-10-08   4607.925936      9428.789627       53.004327  5.515022e+09   \n",
       "2017-01-03   1032.609053      2199.476710       15.342221  1.653857e+09   \n",
       "\n",
       "             TxCount  MeanMedianRatio  \n",
       "2018-01-12  855740.0        57.182216  \n",
       "2016-04-15  477433.0       157.085598  \n",
       "2016-06-20  616449.0       196.271892  \n",
       "2017-10-08  584913.0       177.887168  \n",
       "2017-01-03  751932.0       143.361034  "
      ]
     },
     "execution_count": 57,
     "metadata": {},
     "output_type": "execute_result"
    },
    {
     "data": {
      "text/html": [
       "<div>\n",
       "<style scoped>\n",
       "    .dataframe tbody tr th:only-of-type {\n",
       "        vertical-align: middle;\n",
       "    }\n",
       "\n",
       "    .dataframe tbody tr th {\n",
       "        vertical-align: top;\n",
       "    }\n",
       "\n",
       "    .dataframe thead th {\n",
       "        text-align: right;\n",
       "    }\n",
       "</style>\n",
       "<table border=\"1\" class=\"dataframe\">\n",
       "  <thead>\n",
       "    <tr style=\"text-align: right;\">\n",
       "      <th></th>\n",
       "      <th>PriceUSD</th>\n",
       "      <th>TxTfrValMeanUSD</th>\n",
       "      <th>TxTfrValMedUSD</th>\n",
       "      <th>TxTfrValUSD</th>\n",
       "      <th>TxCount</th>\n",
       "      <th>MeanMedianRatio</th>\n",
       "    </tr>\n",
       "  </thead>\n",
       "  <tbody>\n",
       "    <tr>\n",
       "      <td>2016-03-05</td>\n",
       "      <td>0.000217</td>\n",
       "      <td>164.291196</td>\n",
       "      <td>0.008380</td>\n",
       "      <td>9.729160e+06</td>\n",
       "      <td>59219.0</td>\n",
       "      <td>19604.589277</td>\n",
       "    </tr>\n",
       "    <tr>\n",
       "      <td>2019-07-16</td>\n",
       "      <td>0.002774</td>\n",
       "      <td>460.318149</td>\n",
       "      <td>0.264234</td>\n",
       "      <td>3.410957e+07</td>\n",
       "      <td>74100.0</td>\n",
       "      <td>1742.081946</td>\n",
       "    </tr>\n",
       "    <tr>\n",
       "      <td>2016-02-04</td>\n",
       "      <td>0.000285</td>\n",
       "      <td>177.023858</td>\n",
       "      <td>0.004270</td>\n",
       "      <td>1.199992e+07</td>\n",
       "      <td>67787.0</td>\n",
       "      <td>41455.115445</td>\n",
       "    </tr>\n",
       "    <tr>\n",
       "      <td>2017-05-23</td>\n",
       "      <td>0.003468</td>\n",
       "      <td>7038.797105</td>\n",
       "      <td>7.092899</td>\n",
       "      <td>2.823191e+08</td>\n",
       "      <td>40109.0</td>\n",
       "      <td>992.372452</td>\n",
       "    </tr>\n",
       "    <tr>\n",
       "      <td>2019-03-23</td>\n",
       "      <td>0.002011</td>\n",
       "      <td>595.654654</td>\n",
       "      <td>0.497619</td>\n",
       "      <td>4.381814e+07</td>\n",
       "      <td>73563.0</td>\n",
       "      <td>1197.008547</td>\n",
       "    </tr>\n",
       "  </tbody>\n",
       "</table>\n",
       "</div>"
      ],
      "text/plain": [
       "            PriceUSD  TxTfrValMeanUSD  TxTfrValMedUSD   TxTfrValUSD  TxCount  \\\n",
       "2016-03-05  0.000217       164.291196        0.008380  9.729160e+06  59219.0   \n",
       "2019-07-16  0.002774       460.318149        0.264234  3.410957e+07  74100.0   \n",
       "2016-02-04  0.000285       177.023858        0.004270  1.199992e+07  67787.0   \n",
       "2017-05-23  0.003468      7038.797105        7.092899  2.823191e+08  40109.0   \n",
       "2019-03-23  0.002011       595.654654        0.497619  4.381814e+07  73563.0   \n",
       "\n",
       "            MeanMedianRatio  \n",
       "2016-03-05     19604.589277  \n",
       "2019-07-16      1742.081946  \n",
       "2016-02-04     41455.115445  \n",
       "2017-05-23       992.372452  \n",
       "2019-03-23      1197.008547  "
      ]
     },
     "execution_count": 57,
     "metadata": {},
     "output_type": "execute_result"
    }
   ],
   "source": [
    "dataframes['bsv'].sample(5)\n",
    "dataframes['btc'].sample(5)\n",
    "dataframes['doge'].sample(5)"
   ]
  },
  {
   "cell_type": "markdown",
   "metadata": {},
   "source": [
    "### Compare absolute mean and median daily USD transaction value for BTC since January 2016"
   ]
  },
  {
   "cell_type": "code",
   "execution_count": 60,
   "metadata": {},
   "outputs": [
    {
     "data": {
      "text/html": [
       "<iframe id=\"igraph\" scrolling=\"no\" style=\"border:none;\" seamless=\"seamless\" src=\"https://plot.ly/~mthwsjc/196.embed\" height=\"525px\" width=\"100%\"></iframe>"
      ],
      "text/plain": [
       "<chart_studio.tools.PlotlyDisplay object>"
      ]
     },
     "execution_count": 60,
     "metadata": {},
     "output_type": "execute_result"
    }
   ],
   "source": [
    "btc_mean = go.Scatter(\n",
    "    x=dataframes['btc'].index,\n",
    "    y=dataframes['btc'].TxTfrValMeanUSD,\n",
    "    name='BTC mean',\n",
    "    #marker=dict(color='#ffcdd2')\n",
    ")\n",
    "btc_median = go.Scatter(\n",
    "    x=dataframes['btc'].index,\n",
    "    y=dataframes['btc'].TxTfrValMedUSD,\n",
    "    name='BTC median'\n",
    "    #marker=dict(color='#ffcdd2')\n",
    ")\n",
    "\n",
    "data = [btc_mean, btc_median]\n",
    "layout = go.Layout(\n",
    "    title=\"BTC median and mean transaction values by day\",\n",
    "    xaxis=dict(title='Date'),\n",
    "    yaxis=dict(title='USD value'),\n",
    "    yaxis_type='log'\n",
    ")\n",
    "\n",
    "fig = go.Figure(data=data, layout=layout)\n",
    "\n",
    "py.iplot(fig) "
   ]
  },
  {
   "cell_type": "markdown",
   "metadata": {},
   "source": [
    "### Plot the ratio of daily mean to median USD transaction values for each asset since January 2016"
   ]
  },
  {
   "cell_type": "code",
   "execution_count": 61,
   "metadata": {},
   "outputs": [
    {
     "data": {
      "text/html": [
       "<iframe id=\"igraph\" scrolling=\"no\" style=\"border:none;\" seamless=\"seamless\" src=\"https://plot.ly/~mthwsjc/198.embed\" height=\"525px\" width=\"100%\"></iframe>"
      ],
      "text/plain": [
       "<chart_studio.tools.PlotlyDisplay object>"
      ]
     },
     "execution_count": 61,
     "metadata": {},
     "output_type": "execute_result"
    }
   ],
   "source": [
    "def scatter_plot(asset, name):\n",
    "    return go.Scatter(\n",
    "        x=dataframes[asset].index,\n",
    "        y=dataframes[asset].MeanMedianRatio,\n",
    "        name=name\n",
    "    )\n",
    "        \n",
    "data = [scatter_plot(asset, asset) for asset in dataframes.keys()]\n",
    "layout = go.Layout(\n",
    "    title=\"Ratio of daily mean to median transaction value\",\n",
    "    xaxis=dict(title='Date'),\n",
    "    yaxis=dict(title='Ratio'),\n",
    "    yaxis_type='log'\n",
    ")\n",
    "\n",
    "fig = go.Figure(data=data, layout=layout)\n",
    "\n",
    "py.iplot(fig) "
   ]
  },
  {
   "cell_type": "markdown",
   "metadata": {},
   "source": [
    "### Conclusions\n",
    "\n",
    "The chart above shows that BTC has the lowest ratio of mean to median daily transaction value. This suggests that it has relatively strong organic use compared to the other blockchains, and is less influenced by whales than the other blockchains on the chart. Its MMR has less day-to-day variation that the other chains, suggesting a wider and more established user base. This should be further analysed by considering total daily transaction volumes. \n",
    "\n",
    "\n",
    "Using this ratio as a proxy to measure organic use, the chain with the second most organic use is Litecoin.\n",
    "\n",
    "\n",
    "Since the start of 2019, Dogecoin influence of whales has been decreasing\n",
    "\n",
    "Of the two contentious hard forks, Bitcoin cash shows two distinct phases with different characterists in each. From its inception in August 2017 to November 2018, the influence of whales and inorganic behaviour increased at a steady rate. Notably at the coins genesis, there appears to have been a large organic user base transacting daily, bringing the median transaction value to within 50 - 100x the mean daily transaction value. This was lower than Bitcoins, which had a much more consistent but higher ratio of 120 - 200.\n",
    "\n",
    "\n",
    "After November 10 2018, the ratio increases from an average of approximately 500 to approximately 10,000. This is a stark and abrupt change in the daily ratio, and suggests that either organic use drastically decreased or it (very suddenly) started being used for very large value transfers by relatively few users.\n",
    "\n",
    "\n",
    "Dogecoin, despite its status as a \"joke\" blockchain, appears to have more widespread organic use than either BCH or BSV, but less than BTC or LTC. Additionally, even though Elon Musk has professed to be a [fan](https://twitter.com/elonmusk/status/1113009339743100929) , it seems unlikely that he is using it to transmit a large fraction of his personal wealth."
   ]
  },
  {
   "cell_type": "markdown",
   "metadata": {},
   "source": [
    "### Next Steps\n",
    "1. This brief investigation was developed over the course of an afternoon, in line with the project brief. In order to be applied in a commercial context it should be expanded and tested in at least the following ways:\n",
    " 1. Test if the central assumption of this analysis is true. Possible approaches could include: \n",
    "        - Exchange outflows should be filtered out. Could this be done using known exchange addresses (exchanges aggregate organic retail investor behavior)?\n",
    "        - What is the influence of \"change\" transactions - in aggregate this should be nil.\n",
    "        - For BTC and LTC, are the lightning networks distorting the results significantly by hiding organic low value activity?\n",
    "        - For BTC, is the [liquid sidechain](https://blockstream.com/liquid-faq/) hiding the activity of whales to the extent that it is not the \"healthiest\" of the 5 blockchains analysed?\n",
    "\n",
    " 1. Can we infer where the whales and general users live by analysing the time of transactions? People are much more likely to make a transaction at midday than midnight, and we could use this to investigate geographic clusterings. Is BTC a \"western\" chain, whilst BCH has more organic use in Asia? \n",
    " \n",
    " 1. An analysis of daily transaction volume (in USD terms) would provide useful background and context in which to interpret the significance of differences between each chain.\n",
    " \n",
    " 1. Similarly, comparing the hash power dedicated to mining new blocks on each chain would indicate commercial interests, and abrupt changes in hash power could possibly be correlated with changes in mean-median ratio (MMR)."
   ]
  },
  {
   "cell_type": "code",
   "execution_count": null,
   "metadata": {},
   "outputs": [],
   "source": []
  }
 ],
 "metadata": {
  "kernelspec": {
   "display_name": "Python 3",
   "language": "python",
   "name": "python3"
  },
  "language_info": {
   "codemirror_mode": {
    "name": "ipython",
    "version": 3
   },
   "file_extension": ".py",
   "mimetype": "text/x-python",
   "name": "python",
   "nbconvert_exporter": "python",
   "pygments_lexer": "ipython3",
   "version": "3.7.3"
  },
  "latex_envs": {
   "LaTeX_envs_menu_present": true,
   "autocomplete": true,
   "bibliofile": "biblio.bib",
   "cite_by": "apalike",
   "current_citInitial": 1,
   "eqLabelWithNumbers": true,
   "eqNumInitial": 1,
   "hotkeys": {
    "equation": "Ctrl-E",
    "itemize": "Ctrl-I"
   },
   "labels_anchors": false,
   "latex_user_defs": false,
   "report_style_numbering": false,
   "user_envs_cfg": false
  }
 },
 "nbformat": 4,
 "nbformat_minor": 2
}
