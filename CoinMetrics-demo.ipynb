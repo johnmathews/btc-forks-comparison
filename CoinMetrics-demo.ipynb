{
 "cells": [
  {
   "cell_type": "markdown",
   "metadata": {},
   "source": [
    "# CoinMetrics Case Study"
   ]
  },
  {
   "cell_type": "markdown",
   "metadata": {},
   "source": [
    "Objective - to evaluate skills and abilities in multiple ways:\n",
    "1. importing data\n",
    "2. wrangling data\n",
    "3. exploring data\n",
    "4. analysis\n",
    "5. modelling\n",
    "6. communicating results\n",
    "\n",
    "Provide:\n",
    "1. A written explanation of how to approach the problem\n",
    "2. Present the beginning phases of implementation using coin metrics data\n",
    "\n",
    "Of the four options made available in the case study, option 3 was chosen"
   ]
  },
  {
   "cell_type": "markdown",
   "metadata": {},
   "source": [
    "### Advocating for CoinMetric's data"
   ]
  },
  {
   "cell_type": "markdown",
   "metadata": {},
   "source": [
    "Produce quality research that is of value to potential clients (doesn’t have to be complete) with a particular focus on network data"
   ]
  },
  {
   "cell_type": "markdown",
   "metadata": {},
   "source": [
    "### Initial ideas\n",
    "\n",
    "My first rough ideas were: \n",
    "1. comparing different Bitcoin based chains, (BTC, BCH, LTC, BSV) to test the influence of whales and compare this to their respective claims to be a SoV  or alternative to cash.\n",
    "2. developing some of the research by Willy Woo. I find his research particularly interesting. Particularly, \n",
    "    1. days destroyed, \n",
    "    2. hodl waves, \n",
    "    3. thermo cap, \n",
    "    4. average cap. \n",
    " \n",
    "I think the following ideas are also interesting and worth investigating, but not possible within the scope of this exercise:\n",
    " \n",
    "1. Tracking the number of twitter followers of various crypto-twitter thought leaders and celebrities to test the hypothesis that *\"an increase in follower numbers shows that new retail investors are entering crypto-markets, and an increase in price is expected soon\"*\n",
    " \n",
    " Thought leaders / crypto celebrities could be further grouped by what types of coins they speak about most  - SoV, smart contracts, DeFi, etc. \n",
    " \n",
    " Weibo could be analysed as well as Twitter to understand Chinese markets, Korean twitter could be analysed for the Korean retail market, etc. \n",
    "\n",
    "2. I have an existing side project which has the goal of using a recurrent neural net to predict BTC price movements. The app (model, stored data, data pipeline, visualization of results) will run autonomously on Google Cloud Platform. Candle data is consumed from CoinAPI.io and stored in BigQuery. \n",
    "\n",
    " Technical indicators will be calculated and used as additional factors to the model. Sentiment analysis from news outlets (Bloomberg, FT) would be added later. \n",
    "\n",
    " The model would be written using TensorFlow, and the BigQuery tables names would use BQ's date format capabilites. This would make the project faster and cheaper. "
   ]
  },
  {
   "cell_type": "markdown",
   "metadata": {},
   "source": [
    "### 1. Testing the influence of whales on BTC forks and comparing to each chains claims e.g. as a store of value or alternative to cash\n",
    "\n",
    "If a country has a much lower median income than mean income, it probably has high income inequality. \n",
    "\n",
    "Similarly, if a chain has a much smaller median transaction size than mean transaction size, it probably is not used by regular users and is controlled mostly be whales. \n",
    "\n",
    "This would contradict any claims the fork makes to being a form of digital cash. "
   ]
  },
  {
   "cell_type": "code",
   "execution_count": 2,
   "metadata": {},
   "outputs": [],
   "source": [
    "# TxTfrValMeanUSD - The sum USD value of native units transferred divided by the count of transfers (i.e., the mean \"size\" in USD of a transfer) that interval.\n",
    "\n",
    "# TxTfrValMedUSD - The median USD value transferred per transfer (i.e., the median \"size\" in USD of a transfer) that interval.\n",
    "\n",
    "# TxTfrValUSD - The sum USD value of all native units transferred (i.e., the aggregate size in USD of all transfers) that interval.\n",
    "\n",
    "# Chains: BTC, BCH, BSV, LTC, DOGE"
   ]
  },
  {
   "cell_type": "code",
   "execution_count": 66,
   "metadata": {},
   "outputs": [],
   "source": [
    "import requests\n",
    "import json\n",
    "\n",
    "import pandas as pd"
   ]
  },
  {
   "cell_type": "code",
   "execution_count": 61,
   "metadata": {},
   "outputs": [],
   "source": [
    "def get_metricdata(asset_id, payload):\n",
    "    url = f'https://community-api.coinmetrics.io/v2/assets/{asset_id}/metricdata'\n",
    "    response = requests.get(\n",
    "        url=url,\n",
    "        params=payload\n",
    "    )\n",
    "    \n",
    "    if response.status_code == 200:\n",
    "        print(f'{asset_id} - success!')\n",
    "        return json.loads(response.content.decode('utf-8'))\n",
    "    else:\n",
    "        print(f'status_code: {response.status_code}')\n",
    "        return None"
   ]
  },
  {
   "cell_type": "code",
   "execution_count": 62,
   "metadata": {},
   "outputs": [
    {
     "name": "stdout",
     "output_type": "stream",
     "text": [
      "btc - success!\n",
      "ltc - success!\n",
      "bch - success!\n",
      "bsv - success!\n",
      "doge - success!\n"
     ]
    }
   ],
   "source": [
    "payload = {\n",
    "    'metrics':  'PriceUSD,'+\n",
    "                'TxTfrValMeanUSD,'+\n",
    "                'TxTfrValMedUSD,'+\n",
    "                'TxTfrValUSD',\n",
    "    'start': '2018-09-01',\n",
    "}\n",
    "\n",
    "asset_list = ['btc', 'ltc', 'bch', 'bsv', 'doge']\n",
    "data = {}\n",
    "for asset in asset_list:\n",
    "    data[asset] = get_metricdata(asset, payload)"
   ]
  },
  {
   "cell_type": "code",
   "execution_count": 124,
   "metadata": {},
   "outputs": [
    {
     "data": {
      "text/plain": [
       "dict_keys(['btc', 'ltc', 'bch', 'bsv', 'doge'])"
      ]
     },
     "execution_count": 124,
     "metadata": {},
     "output_type": "execute_result"
    }
   ],
   "source": [
    "data.keys()"
   ]
  },
  {
   "cell_type": "code",
   "execution_count": 125,
   "metadata": {},
   "outputs": [],
   "source": [
    "dataframes = {}\n",
    "cols = ['PriceUSD', 'TxTfrValMeanUSD', 'TxTfrValMedUSD', 'TxTfrValUSD']\n",
    "for asset in data.keys():\n",
    "    values = [ each['values'] for each in data[asset]['metricData']['series']]\n",
    "    index = [ each['time'] for each in data[asset]['metricData']['series']]\n",
    "    \n",
    "    df = pd.DataFrame.from_records(values, columns = cols)\n",
    "    df.index = pd.to_datetime(index, infer_datetime_format=True).date\n",
    "    \n",
    "    dataframes[asset] = df"
   ]
  },
  {
   "cell_type": "code",
   "execution_count": 133,
   "metadata": {},
   "outputs": [
    {
     "data": {
      "text/html": [
       "<div>\n",
       "<style scoped>\n",
       "    .dataframe tbody tr th:only-of-type {\n",
       "        vertical-align: middle;\n",
       "    }\n",
       "\n",
       "    .dataframe tbody tr th {\n",
       "        vertical-align: top;\n",
       "    }\n",
       "\n",
       "    .dataframe thead th {\n",
       "        text-align: right;\n",
       "    }\n",
       "</style>\n",
       "<table border=\"1\" class=\"dataframe\">\n",
       "  <thead>\n",
       "    <tr style=\"text-align: right;\">\n",
       "      <th></th>\n",
       "      <th>PriceUSD</th>\n",
       "      <th>TxTfrValMeanUSD</th>\n",
       "      <th>TxTfrValMedUSD</th>\n",
       "      <th>TxTfrValUSD</th>\n",
       "    </tr>\n",
       "  </thead>\n",
       "  <tbody>\n",
       "    <tr>\n",
       "      <th>2018-11-15</th>\n",
       "      <td>93.41539961083976</td>\n",
       "      <td>517.8554737715256290292705525536</td>\n",
       "      <td>0.0223393586629362202064</td>\n",
       "      <td>207379367.3155974275470764364744</td>\n",
       "    </tr>\n",
       "    <tr>\n",
       "      <th>2018-11-16</th>\n",
       "      <td>105.36002645795341</td>\n",
       "      <td>147.3796520322425099914707901593</td>\n",
       "      <td>0.044546219186422701748</td>\n",
       "      <td>59330037.0000117788218718116609</td>\n",
       "    </tr>\n",
       "    <tr>\n",
       "      <th>2018-11-17</th>\n",
       "      <td>112.28829293307611</td>\n",
       "      <td>17.65989111910323446054517905295</td>\n",
       "      <td>0.0114949525475590013807</td>\n",
       "      <td>10913777.3918235898502947913549</td>\n",
       "    </tr>\n",
       "    <tr>\n",
       "      <th>2018-11-18</th>\n",
       "      <td>89.01111487631734</td>\n",
       "      <td>20.79945024051132389671082338468</td>\n",
       "      <td>0.0045876328607253957036</td>\n",
       "      <td>15218188.1613232322521602064664</td>\n",
       "    </tr>\n",
       "    <tr>\n",
       "      <th>2018-11-19</th>\n",
       "      <td>61.035951584272745</td>\n",
       "      <td>14.442474787643060165148643776715</td>\n",
       "      <td>0.00218813886429617790825</td>\n",
       "      <td>24730557.26014583939362501977</td>\n",
       "    </tr>\n",
       "  </tbody>\n",
       "</table>\n",
       "</div>"
      ],
      "text/plain": [
       "                      PriceUSD                    TxTfrValMeanUSD  \\\n",
       "2018-11-15   93.41539961083976   517.8554737715256290292705525536   \n",
       "2018-11-16  105.36002645795341   147.3796520322425099914707901593   \n",
       "2018-11-17  112.28829293307611   17.65989111910323446054517905295   \n",
       "2018-11-18   89.01111487631734   20.79945024051132389671082338468   \n",
       "2018-11-19  61.035951584272745  14.442474787643060165148643776715   \n",
       "\n",
       "                       TxTfrValMedUSD                       TxTfrValUSD  \n",
       "2018-11-15   0.0223393586629362202064  207379367.3155974275470764364744  \n",
       "2018-11-16    0.044546219186422701748   59330037.0000117788218718116609  \n",
       "2018-11-17   0.0114949525475590013807   10913777.3918235898502947913549  \n",
       "2018-11-18   0.0045876328607253957036   15218188.1613232322521602064664  \n",
       "2018-11-19  0.00218813886429617790825     24730557.26014583939362501977  "
      ]
     },
     "execution_count": 133,
     "metadata": {},
     "output_type": "execute_result"
    }
   ],
   "source": [
    "dataframes['bsv'].head()"
   ]
  },
  {
   "cell_type": "code",
   "execution_count": 136,
   "metadata": {},
   "outputs": [
    {
     "ename": "ModuleNotFoundError",
     "evalue": "No module named 'cufflinks'",
     "output_type": "error",
     "traceback": [
      "\u001b[0;31m---------------------------------------------------------------------------\u001b[0m",
      "\u001b[0;31mModuleNotFoundError\u001b[0m                       Traceback (most recent call last)",
      "\u001b[0;32m<ipython-input-136-ba97809b391d>\u001b[0m in \u001b[0;36m<module>\u001b[0;34m\u001b[0m\n\u001b[1;32m      1\u001b[0m \u001b[0;32mimport\u001b[0m \u001b[0mplotly\u001b[0m\u001b[0;34m.\u001b[0m\u001b[0mgraph_objs\u001b[0m \u001b[0;32mas\u001b[0m \u001b[0mgo\u001b[0m\u001b[0;34m\u001b[0m\u001b[0;34m\u001b[0m\u001b[0m\n\u001b[1;32m      2\u001b[0m \u001b[0;32mfrom\u001b[0m \u001b[0mplotly\u001b[0m\u001b[0;34m.\u001b[0m\u001b[0moffline\u001b[0m \u001b[0;32mimport\u001b[0m \u001b[0mdownload_plotlyjs\u001b[0m\u001b[0;34m,\u001b[0m \u001b[0minit_notebook_mode\u001b[0m\u001b[0;34m,\u001b[0m \u001b[0mplot\u001b[0m\u001b[0;34m,\u001b[0m \u001b[0miplot\u001b[0m\u001b[0;34m\u001b[0m\u001b[0;34m\u001b[0m\u001b[0m\n\u001b[0;32m----> 3\u001b[0;31m \u001b[0;32mimport\u001b[0m \u001b[0mcufflinks\u001b[0m \u001b[0;32mas\u001b[0m \u001b[0mcf\u001b[0m\u001b[0;34m\u001b[0m\u001b[0;34m\u001b[0m\u001b[0m\n\u001b[0m\u001b[1;32m      4\u001b[0m \u001b[0;34m\u001b[0m\u001b[0m\n\u001b[1;32m      5\u001b[0m \u001b[0minit_notebook_mode\u001b[0m\u001b[0;34m(\u001b[0m\u001b[0mconnected\u001b[0m\u001b[0;34m=\u001b[0m\u001b[0;32mTrue\u001b[0m\u001b[0;34m)\u001b[0m\u001b[0;34m\u001b[0m\u001b[0;34m\u001b[0m\u001b[0m\n",
      "\u001b[0;31mModuleNotFoundError\u001b[0m: No module named 'cufflinks'"
     ]
    }
   ],
   "source": [
    "import plotly.graph_objs as go\n",
    "from plotly.offline import download_plotlyjs, init_notebook_mode, plot, iplot\n",
    "import cufflinks as cf\n",
    "\n",
    "init_notebook_mode(connected=True)"
   ]
  },
  {
   "cell_type": "code",
   "execution_count": 135,
   "metadata": {},
   "outputs": [
    {
     "ename": "NameError",
     "evalue": "name 'cf' is not defined",
     "output_type": "error",
     "traceback": [
      "\u001b[0;31m---------------------------------------------------------------------------\u001b[0m",
      "\u001b[0;31mNameError\u001b[0m                                 Traceback (most recent call last)",
      "\u001b[0;32m<ipython-input-135-3ef033181acf>\u001b[0m in \u001b[0;36m<module>\u001b[0;34m\u001b[0m\n\u001b[1;32m      1\u001b[0m iplot(\n\u001b[0;32m----> 2\u001b[0;31m     cf.datagen.lines().iplot(\n\u001b[0m\u001b[1;32m      3\u001b[0m         \u001b[0masFigure\u001b[0m\u001b[0;34m=\u001b[0m\u001b[0;32mTrue\u001b[0m\u001b[0;34m,\u001b[0m\u001b[0;34m\u001b[0m\u001b[0;34m\u001b[0m\u001b[0m\n\u001b[1;32m      4\u001b[0m         \u001b[0mkind\u001b[0m\u001b[0;34m=\u001b[0m\u001b[0;34m'scatter'\u001b[0m\u001b[0;34m,\u001b[0m\u001b[0;34m\u001b[0m\u001b[0;34m\u001b[0m\u001b[0m\n\u001b[1;32m      5\u001b[0m         \u001b[0mxTitle\u001b[0m\u001b[0;34m=\u001b[0m\u001b[0;34m'Dates'\u001b[0m\u001b[0;34m,\u001b[0m\u001b[0;34m\u001b[0m\u001b[0;34m\u001b[0m\u001b[0m\n",
      "\u001b[0;31mNameError\u001b[0m: name 'cf' is not defined"
     ]
    }
   ],
   "source": [
    "iplot(\n",
    "    cf.datagen.lines().iplot(\n",
    "        asFigure=True,\n",
    "        kind='scatter',\n",
    "        xTitle='Dates',\n",
    "        yTitle='Returns',\n",
    "        title='Returns'\n",
    "    )\n",
    ")"
   ]
  },
  {
   "cell_type": "code",
   "execution_count": null,
   "metadata": {},
   "outputs": [],
   "source": []
  }
 ],
 "metadata": {
  "kernelspec": {
   "display_name": "Python 3.7",
   "language": "python",
   "name": "python3.7"
  },
  "language_info": {
   "codemirror_mode": {
    "name": "ipython",
    "version": 3
   },
   "file_extension": ".py",
   "mimetype": "text/x-python",
   "name": "python",
   "nbconvert_exporter": "python",
   "pygments_lexer": "ipython3",
   "version": "3.7.3"
  },
  "latex_envs": {
   "LaTeX_envs_menu_present": true,
   "autocomplete": true,
   "bibliofile": "biblio.bib",
   "cite_by": "apalike",
   "current_citInitial": 1,
   "eqLabelWithNumbers": true,
   "eqNumInitial": 1,
   "hotkeys": {
    "equation": "Ctrl-E",
    "itemize": "Ctrl-I"
   },
   "labels_anchors": false,
   "latex_user_defs": false,
   "report_style_numbering": false,
   "user_envs_cfg": false
  }
 },
 "nbformat": 4,
 "nbformat_minor": 2
}
